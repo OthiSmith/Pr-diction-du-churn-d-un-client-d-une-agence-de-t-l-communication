{
 "cells": [
  {
   "cell_type": "markdown",
   "metadata": {},
   "source": [
    "<br>\n",
    "<img src=\"https://ensea.ed.ci/wp-content/uploads/2021/07/logo_ensea.png\" width=90px align=\"left\">\n",
    "<div align=\"right\">Enseignant : M. COULIBALY Raymond</div>\n",
    "<div align=\"right\">Réalisé par :  ALLOU Mardoché, ARRA Othniel et NAGALO Bouma</div>\n",
    "<div align=\"right\">Année : 2022/2023</div><br><br><br>\n",
    "<div align=\"center\"><span style=\"font-family:Lucida Caligraphy;font-size:32px;color:darkgreen\">Ingénieurs Statisticiens Economistes</span></div><br>\n",
    "<div align=\"center\"><span style=\"font-family:Lucida Caligraphy;font-size:28px;color:#e60000\">Projet de Machine Learning</span></div><br>\n",
    "<div align=\"center\"><span style=\"font-family:Lucida Caligraphy;font-size:28px;color:blue\">ISE2A</span></div><br><br>\n",
    "<hr>\n",
    "\n",
    "<br>\n",
    "\n",
    "<div align=\"center\"><span style=\"font-family:Lucida Caligraphy;font-size:32px;color:darkgreen\">Modèle de prédiction du churn d'un client</span></div><br>\n",
    "<hr>"
   ]
  },
  {
   "cell_type": "code",
   "execution_count": 1,
   "metadata": {},
   "outputs": [],
   "source": [
    "# Importation des modules et packages\n",
    "\n",
    "import pandas as pd \n",
    "import numpy as np\n",
    "import seaborn as sns\n",
    "import matplotlib.pyplot as plt\n",
    "import ipywidgets as widgets\n",
    "from ipywidgets import interact,interactive,fixed,interact_manual\n",
    "from sklearn import preprocessing\n",
    "from sklearn.model_selection import train_test_split\n",
    "from sklearn.utils import resample\n",
    "from sklearn.preprocessing import MinMaxScaler\n",
    "from sklearn.ensemble import RandomForestClassifier\n",
    "from sklearn.metrics import classification_report\n",
    "from sklearn.model_selection import GridSearchCV\n",
    "from sklearn.linear_model import LogisticRegression\n",
    "from sklearn.svm import SVC\n",
    "from sklearn.neural_network import MLPClassifier\n",
    "import pickle"
   ]
  },
  {
   "cell_type": "markdown",
   "metadata": {},
   "source": [
    "# Importation et visualisation des données"
   ]
  },
  {
   "cell_type": "code",
   "execution_count": 23,
   "metadata": {},
   "outputs": [],
   "source": [
    "df = pd.read_csv(\"C:/Users/HP/Desktop/ISE_2/Machine_Learning/PROJET/DataSet_FDD.csv\", sep=\";\", index_col=\"ID\")"
   ]
  },
  {
   "cell_type": "code",
   "execution_count": 4,
   "metadata": {},
   "outputs": [
    {
     "data": {
      "text/html": [
       "<div>\n",
       "<style scoped>\n",
       "    .dataframe tbody tr th:only-of-type {\n",
       "        vertical-align: middle;\n",
       "    }\n",
       "\n",
       "    .dataframe tbody tr th {\n",
       "        vertical-align: top;\n",
       "    }\n",
       "\n",
       "    .dataframe thead th {\n",
       "        text-align: right;\n",
       "    }\n",
       "</style>\n",
       "<table border=\"1\" class=\"dataframe\">\n",
       "  <thead>\n",
       "    <tr style=\"text-align: right;\">\n",
       "      <th></th>\n",
       "      <th>CHURN</th>\n",
       "      <th>AUTRE_ABONNEMENT</th>\n",
       "      <th>ANCIENNETE</th>\n",
       "      <th>STATUT_RC_M1</th>\n",
       "      <th>STATUT_TRAFIC_M1</th>\n",
       "      <th>STATUT_FACT_M1</th>\n",
       "      <th>STATUT_TRAFIC_M2</th>\n",
       "      <th>STATUT_RC_M2</th>\n",
       "      <th>STATUT_FACT_M2</th>\n",
       "      <th>VOL_DATA_M1</th>\n",
       "      <th>...</th>\n",
       "      <th>VOL_DATA_M2</th>\n",
       "      <th>MONTANT_OM_HT_M2</th>\n",
       "      <th>MONTANT_FACT_HT_M2</th>\n",
       "      <th>VOL_TOT_DATA_KO_M1</th>\n",
       "      <th>VOL_TOT_VOIX_M1</th>\n",
       "      <th>CONSO_M1</th>\n",
       "      <th>VOL_TOT_DATA_KO_M2</th>\n",
       "      <th>VOL_TOT_VOIX_M2</th>\n",
       "      <th>CONSO_M2</th>\n",
       "      <th>ALEA</th>\n",
       "    </tr>\n",
       "    <tr>\n",
       "      <th>ID</th>\n",
       "      <th></th>\n",
       "      <th></th>\n",
       "      <th></th>\n",
       "      <th></th>\n",
       "      <th></th>\n",
       "      <th></th>\n",
       "      <th></th>\n",
       "      <th></th>\n",
       "      <th></th>\n",
       "      <th></th>\n",
       "      <th></th>\n",
       "      <th></th>\n",
       "      <th></th>\n",
       "      <th></th>\n",
       "      <th></th>\n",
       "      <th></th>\n",
       "      <th></th>\n",
       "      <th></th>\n",
       "      <th></th>\n",
       "      <th></th>\n",
       "      <th></th>\n",
       "    </tr>\n",
       "  </thead>\n",
       "  <tbody>\n",
       "    <tr>\n",
       "      <th>72814847</th>\n",
       "      <td>0</td>\n",
       "      <td>1</td>\n",
       "      <td>1- 03Mois</td>\n",
       "      <td>0</td>\n",
       "      <td>1.0</td>\n",
       "      <td>0.0</td>\n",
       "      <td>1.0</td>\n",
       "      <td>1</td>\n",
       "      <td>0.0</td>\n",
       "      <td>14607.490139</td>\n",
       "      <td>...</td>\n",
       "      <td>10877.494672</td>\n",
       "      <td>0.000000</td>\n",
       "      <td>0</td>\n",
       "      <td>1.668031e+06</td>\n",
       "      <td>1550.166667</td>\n",
       "      <td>21563.55</td>\n",
       "      <td>7.511209e+05</td>\n",
       "      <td>1965.633333</td>\n",
       "      <td>33256.33</td>\n",
       "      <td>0,0000136</td>\n",
       "    </tr>\n",
       "    <tr>\n",
       "      <th>63091394</th>\n",
       "      <td>0</td>\n",
       "      <td>1</td>\n",
       "      <td>5- 18Mois</td>\n",
       "      <td>0</td>\n",
       "      <td>1.0</td>\n",
       "      <td>0.0</td>\n",
       "      <td>1.0</td>\n",
       "      <td>1</td>\n",
       "      <td>0.0</td>\n",
       "      <td>63345.120289</td>\n",
       "      <td>...</td>\n",
       "      <td>36718.363304</td>\n",
       "      <td>4132.231405</td>\n",
       "      <td>0</td>\n",
       "      <td>2.938960e+07</td>\n",
       "      <td>1941.483333</td>\n",
       "      <td>10000.00</td>\n",
       "      <td>4.009789e+06</td>\n",
       "      <td>316.966667</td>\n",
       "      <td>40001.62</td>\n",
       "      <td>0,0000285</td>\n",
       "    </tr>\n",
       "    <tr>\n",
       "      <th>68479934</th>\n",
       "      <td>0</td>\n",
       "      <td>1</td>\n",
       "      <td>3- 09Mois</td>\n",
       "      <td>1</td>\n",
       "      <td>1.0</td>\n",
       "      <td>0.0</td>\n",
       "      <td>1.0</td>\n",
       "      <td>0</td>\n",
       "      <td>0.0</td>\n",
       "      <td>83355.802775</td>\n",
       "      <td>...</td>\n",
       "      <td>16.051505</td>\n",
       "      <td>0.000000</td>\n",
       "      <td>0</td>\n",
       "      <td>1.123436e+07</td>\n",
       "      <td>1864.066667</td>\n",
       "      <td>24500.00</td>\n",
       "      <td>2.080931e+07</td>\n",
       "      <td>1852.283333</td>\n",
       "      <td>22502.26</td>\n",
       "      <td>0,0000444</td>\n",
       "    </tr>\n",
       "    <tr>\n",
       "      <th>60533011</th>\n",
       "      <td>0</td>\n",
       "      <td>0</td>\n",
       "      <td>5- 18Mois</td>\n",
       "      <td>0</td>\n",
       "      <td>1.0</td>\n",
       "      <td>0.0</td>\n",
       "      <td>1.0</td>\n",
       "      <td>0</td>\n",
       "      <td>0.0</td>\n",
       "      <td>3.163406</td>\n",
       "      <td>...</td>\n",
       "      <td>5.017221</td>\n",
       "      <td>0.000000</td>\n",
       "      <td>0</td>\n",
       "      <td>3.393805e+06</td>\n",
       "      <td>15.033333</td>\n",
       "      <td>7108.00</td>\n",
       "      <td>1.782441e+05</td>\n",
       "      <td>49.933333</td>\n",
       "      <td>3103.00</td>\n",
       "      <td>0,0000549</td>\n",
       "    </tr>\n",
       "    <tr>\n",
       "      <th>74240944</th>\n",
       "      <td>0</td>\n",
       "      <td>0</td>\n",
       "      <td>1- 03Mois</td>\n",
       "      <td>1</td>\n",
       "      <td>0.0</td>\n",
       "      <td>0.0</td>\n",
       "      <td>NaN</td>\n",
       "      <td>0</td>\n",
       "      <td>NaN</td>\n",
       "      <td>0.000000</td>\n",
       "      <td>...</td>\n",
       "      <td>0.000000</td>\n",
       "      <td>0.000000</td>\n",
       "      <td>0</td>\n",
       "      <td>5.990114e+06</td>\n",
       "      <td>858.283333</td>\n",
       "      <td>5060.00</td>\n",
       "      <td>7.683316e+06</td>\n",
       "      <td>1267.516667</td>\n",
       "      <td>3000.00</td>\n",
       "      <td>0,0000686</td>\n",
       "    </tr>\n",
       "    <tr>\n",
       "      <th>...</th>\n",
       "      <td>...</td>\n",
       "      <td>...</td>\n",
       "      <td>...</td>\n",
       "      <td>...</td>\n",
       "      <td>...</td>\n",
       "      <td>...</td>\n",
       "      <td>...</td>\n",
       "      <td>...</td>\n",
       "      <td>...</td>\n",
       "      <td>...</td>\n",
       "      <td>...</td>\n",
       "      <td>...</td>\n",
       "      <td>...</td>\n",
       "      <td>...</td>\n",
       "      <td>...</td>\n",
       "      <td>...</td>\n",
       "      <td>...</td>\n",
       "      <td>...</td>\n",
       "      <td>...</td>\n",
       "      <td>...</td>\n",
       "      <td>...</td>\n",
       "    </tr>\n",
       "    <tr>\n",
       "      <th>74523918</th>\n",
       "      <td>0</td>\n",
       "      <td>0</td>\n",
       "      <td>1- 03Mois</td>\n",
       "      <td>0</td>\n",
       "      <td>NaN</td>\n",
       "      <td>NaN</td>\n",
       "      <td>NaN</td>\n",
       "      <td>0</td>\n",
       "      <td>NaN</td>\n",
       "      <td>0.000000</td>\n",
       "      <td>...</td>\n",
       "      <td>0.000000</td>\n",
       "      <td>0.000000</td>\n",
       "      <td>0</td>\n",
       "      <td>0.000000e+00</td>\n",
       "      <td>0.000000</td>\n",
       "      <td>0.00</td>\n",
       "      <td>0.000000e+00</td>\n",
       "      <td>0.000000</td>\n",
       "      <td>0.00</td>\n",
       "      <td>0,078456232</td>\n",
       "    </tr>\n",
       "    <tr>\n",
       "      <th>60814729</th>\n",
       "      <td>0</td>\n",
       "      <td>1</td>\n",
       "      <td>5- 18Mois</td>\n",
       "      <td>0</td>\n",
       "      <td>1.0</td>\n",
       "      <td>0.0</td>\n",
       "      <td>1.0</td>\n",
       "      <td>0</td>\n",
       "      <td>0.0</td>\n",
       "      <td>14.217281</td>\n",
       "      <td>...</td>\n",
       "      <td>21.025021</td>\n",
       "      <td>0.000000</td>\n",
       "      <td>0</td>\n",
       "      <td>4.071438e+06</td>\n",
       "      <td>826.600000</td>\n",
       "      <td>7751.74</td>\n",
       "      <td>7.671753e+06</td>\n",
       "      <td>1664.666667</td>\n",
       "      <td>17646.54</td>\n",
       "      <td>0,078460012</td>\n",
       "    </tr>\n",
       "    <tr>\n",
       "      <th>70516942</th>\n",
       "      <td>0</td>\n",
       "      <td>0</td>\n",
       "      <td>2- 06Mois</td>\n",
       "      <td>0</td>\n",
       "      <td>1.0</td>\n",
       "      <td>0.0</td>\n",
       "      <td>1.0</td>\n",
       "      <td>0</td>\n",
       "      <td>0.0</td>\n",
       "      <td>35.719925</td>\n",
       "      <td>...</td>\n",
       "      <td>33379.024038</td>\n",
       "      <td>0.000000</td>\n",
       "      <td>0</td>\n",
       "      <td>7.699195e+05</td>\n",
       "      <td>644.266667</td>\n",
       "      <td>15150.00</td>\n",
       "      <td>2.601015e+06</td>\n",
       "      <td>586.533333</td>\n",
       "      <td>1000.00</td>\n",
       "      <td>0,078469372</td>\n",
       "    </tr>\n",
       "    <tr>\n",
       "      <th>66622250</th>\n",
       "      <td>0</td>\n",
       "      <td>0</td>\n",
       "      <td>3- 09Mois</td>\n",
       "      <td>0</td>\n",
       "      <td>1.0</td>\n",
       "      <td>0.0</td>\n",
       "      <td>1.0</td>\n",
       "      <td>0</td>\n",
       "      <td>0.0</td>\n",
       "      <td>0.000000</td>\n",
       "      <td>...</td>\n",
       "      <td>0.000000</td>\n",
       "      <td>0.000000</td>\n",
       "      <td>0</td>\n",
       "      <td>5.442496e+06</td>\n",
       "      <td>2187.866667</td>\n",
       "      <td>11150.00</td>\n",
       "      <td>5.901633e+06</td>\n",
       "      <td>2390.750000</td>\n",
       "      <td>11412.30</td>\n",
       "      <td>0,078477302</td>\n",
       "    </tr>\n",
       "    <tr>\n",
       "      <th>70880291</th>\n",
       "      <td>0</td>\n",
       "      <td>0</td>\n",
       "      <td>2- 06Mois</td>\n",
       "      <td>0</td>\n",
       "      <td>1.0</td>\n",
       "      <td>0.0</td>\n",
       "      <td>1.0</td>\n",
       "      <td>1</td>\n",
       "      <td>0.0</td>\n",
       "      <td>14.071773</td>\n",
       "      <td>...</td>\n",
       "      <td>14.967644</td>\n",
       "      <td>0.000000</td>\n",
       "      <td>0</td>\n",
       "      <td>0.000000e+00</td>\n",
       "      <td>0.000000</td>\n",
       "      <td>0.00</td>\n",
       "      <td>0.000000e+00</td>\n",
       "      <td>0.000000</td>\n",
       "      <td>0.00</td>\n",
       "      <td>0,078507991</td>\n",
       "    </tr>\n",
       "  </tbody>\n",
       "</table>\n",
       "<p>5000 rows × 22 columns</p>\n",
       "</div>"
      ],
      "text/plain": [
       "          CHURN  AUTRE_ABONNEMENT ANCIENNETE  STATUT_RC_M1  STATUT_TRAFIC_M1  \\\n",
       "ID                                                                             \n",
       "72814847      0                 1  1- 03Mois             0               1.0   \n",
       "63091394      0                 1  5- 18Mois             0               1.0   \n",
       "68479934      0                 1  3- 09Mois             1               1.0   \n",
       "60533011      0                 0  5- 18Mois             0               1.0   \n",
       "74240944      0                 0  1- 03Mois             1               0.0   \n",
       "...         ...               ...        ...           ...               ...   \n",
       "74523918      0                 0  1- 03Mois             0               NaN   \n",
       "60814729      0                 1  5- 18Mois             0               1.0   \n",
       "70516942      0                 0  2- 06Mois             0               1.0   \n",
       "66622250      0                 0  3- 09Mois             0               1.0   \n",
       "70880291      0                 0  2- 06Mois             0               1.0   \n",
       "\n",
       "          STATUT_FACT_M1  STATUT_TRAFIC_M2  STATUT_RC_M2  STATUT_FACT_M2  \\\n",
       "ID                                                                         \n",
       "72814847             0.0               1.0             1             0.0   \n",
       "63091394             0.0               1.0             1             0.0   \n",
       "68479934             0.0               1.0             0             0.0   \n",
       "60533011             0.0               1.0             0             0.0   \n",
       "74240944             0.0               NaN             0             NaN   \n",
       "...                  ...               ...           ...             ...   \n",
       "74523918             NaN               NaN             0             NaN   \n",
       "60814729             0.0               1.0             0             0.0   \n",
       "70516942             0.0               1.0             0             0.0   \n",
       "66622250             0.0               1.0             0             0.0   \n",
       "70880291             0.0               1.0             1             0.0   \n",
       "\n",
       "           VOL_DATA_M1  ...   VOL_DATA_M2  MONTANT_OM_HT_M2  \\\n",
       "ID                      ...                                   \n",
       "72814847  14607.490139  ...  10877.494672          0.000000   \n",
       "63091394  63345.120289  ...  36718.363304       4132.231405   \n",
       "68479934  83355.802775  ...     16.051505          0.000000   \n",
       "60533011      3.163406  ...      5.017221          0.000000   \n",
       "74240944      0.000000  ...      0.000000          0.000000   \n",
       "...                ...  ...           ...               ...   \n",
       "74523918      0.000000  ...      0.000000          0.000000   \n",
       "60814729     14.217281  ...     21.025021          0.000000   \n",
       "70516942     35.719925  ...  33379.024038          0.000000   \n",
       "66622250      0.000000  ...      0.000000          0.000000   \n",
       "70880291     14.071773  ...     14.967644          0.000000   \n",
       "\n",
       "          MONTANT_FACT_HT_M2  VOL_TOT_DATA_KO_M1  VOL_TOT_VOIX_M1  CONSO_M1  \\\n",
       "ID                                                                            \n",
       "72814847                   0        1.668031e+06      1550.166667  21563.55   \n",
       "63091394                   0        2.938960e+07      1941.483333  10000.00   \n",
       "68479934                   0        1.123436e+07      1864.066667  24500.00   \n",
       "60533011                   0        3.393805e+06        15.033333   7108.00   \n",
       "74240944                   0        5.990114e+06       858.283333   5060.00   \n",
       "...                      ...                 ...              ...       ...   \n",
       "74523918                   0        0.000000e+00         0.000000      0.00   \n",
       "60814729                   0        4.071438e+06       826.600000   7751.74   \n",
       "70516942                   0        7.699195e+05       644.266667  15150.00   \n",
       "66622250                   0        5.442496e+06      2187.866667  11150.00   \n",
       "70880291                   0        0.000000e+00         0.000000      0.00   \n",
       "\n",
       "          VOL_TOT_DATA_KO_M2  VOL_TOT_VOIX_M2  CONSO_M2         ALEA  \n",
       "ID                                                                    \n",
       "72814847        7.511209e+05      1965.633333  33256.33    0,0000136  \n",
       "63091394        4.009789e+06       316.966667  40001.62    0,0000285  \n",
       "68479934        2.080931e+07      1852.283333  22502.26    0,0000444  \n",
       "60533011        1.782441e+05        49.933333   3103.00    0,0000549  \n",
       "74240944        7.683316e+06      1267.516667   3000.00    0,0000686  \n",
       "...                      ...              ...       ...          ...  \n",
       "74523918        0.000000e+00         0.000000      0.00  0,078456232  \n",
       "60814729        7.671753e+06      1664.666667  17646.54  0,078460012  \n",
       "70516942        2.601015e+06       586.533333   1000.00  0,078469372  \n",
       "66622250        5.901633e+06      2390.750000  11412.30  0,078477302  \n",
       "70880291        0.000000e+00         0.000000      0.00  0,078507991  \n",
       "\n",
       "[5000 rows x 22 columns]"
      ]
     },
     "execution_count": 4,
     "metadata": {},
     "output_type": "execute_result"
    }
   ],
   "source": [
    "df"
   ]
  },
  {
   "cell_type": "code",
   "execution_count": 5,
   "metadata": {},
   "outputs": [
    {
     "name": "stdout",
     "output_type": "stream",
     "text": [
      "La base de données contient  5000 lignes et 22 colonnes.\n"
     ]
    }
   ],
   "source": [
    "# Dimensions de la base de données\n",
    "print(\"La base de données contient \", df.shape[0], \"lignes et\", df.shape[1], \"colonnes.\")"
   ]
  },
  {
   "cell_type": "code",
   "execution_count": 6,
   "metadata": {},
   "outputs": [
    {
     "name": "stdout",
     "output_type": "stream",
     "text": [
      "<class 'pandas.core.frame.DataFrame'>\n",
      "Int64Index: 5000 entries, 72814847 to 70880291\n",
      "Data columns (total 22 columns):\n",
      " #   Column              Non-Null Count  Dtype  \n",
      "---  ------              --------------  -----  \n",
      " 0   CHURN               5000 non-null   int64  \n",
      " 1   AUTRE_ABONNEMENT    5000 non-null   int64  \n",
      " 2   ANCIENNETE          5000 non-null   object \n",
      " 3   STATUT_RC_M1        5000 non-null   int64  \n",
      " 4   STATUT_TRAFIC_M1    4376 non-null   float64\n",
      " 5   STATUT_FACT_M1      4376 non-null   float64\n",
      " 6   STATUT_TRAFIC_M2    3879 non-null   float64\n",
      " 7   STATUT_RC_M2        5000 non-null   int64  \n",
      " 8   STATUT_FACT_M2      3879 non-null   float64\n",
      " 9   VOL_DATA_M1         5000 non-null   float64\n",
      " 10  MONTANT_OM_HT_M1    5000 non-null   int64  \n",
      " 11  MONTANT_FACT_HT_M1  5000 non-null   int64  \n",
      " 12  VOL_DATA_M2         5000 non-null   float64\n",
      " 13  MONTANT_OM_HT_M2    5000 non-null   float64\n",
      " 14  MONTANT_FACT_HT_M2  5000 non-null   int64  \n",
      " 15  VOL_TOT_DATA_KO_M1  5000 non-null   float64\n",
      " 16  VOL_TOT_VOIX_M1     5000 non-null   float64\n",
      " 17  CONSO_M1            5000 non-null   float64\n",
      " 18  VOL_TOT_DATA_KO_M2  5000 non-null   float64\n",
      " 19  VOL_TOT_VOIX_M2     5000 non-null   float64\n",
      " 20  CONSO_M2            5000 non-null   float64\n",
      " 21  ALEA                5000 non-null   object \n",
      "dtypes: float64(13), int64(7), object(2)\n",
      "memory usage: 898.4+ KB\n"
     ]
    }
   ],
   "source": [
    "# Informations sur les variables\n",
    "df.info()"
   ]
  },
  {
   "cell_type": "markdown",
   "metadata": {},
   "source": [
    "**Remarque :** \n",
    "\n",
    "* La variable **CATEGORIE_OFFRE_M1** n'est pas dans la base de donnée et la variable **ALEA** n'est pas dans le dictionnaire des données.\n"
   ]
  },
  {
   "cell_type": "markdown",
   "metadata": {},
   "source": [
    "## Analyse univariée"
   ]
  },
  {
   "cell_type": "markdown",
   "metadata": {},
   "source": [
    "La variable MONTANT_OM_HT_M1 contient une seule modalité. Elle ne contient aucune information. Nous allons donc la supprimer de notre jeu de données pour la suite de notre analyse."
   ]
  },
  {
   "cell_type": "code",
   "execution_count": 24,
   "metadata": {},
   "outputs": [
    {
     "name": "stdout",
     "output_type": "stream",
     "text": [
      "La variable MONTANT_OM_HT_M1 contient 1 modalité.\n",
      "Elle est supprimée du jeu de données.\n"
     ]
    }
   ],
   "source": [
    "# Affichage des modalités de la variable \"MONTANT_OM_HT_M1\"\n",
    "print(\"La variable MONTANT_OM_HT_M1 contient\", df[\"MONTANT_OM_HT_M1\"].nunique(), \"modalité.\")\n",
    "\n",
    "# Suppression des variables MONTANT_OM_HT_M1 et ALEA\n",
    "df = df.drop ([\"MONTANT_OM_HT_M1\", \"ALEA\"], axis=1)\n",
    "\n",
    "print(\"Elle est supprimée du jeu de données.\")"
   ]
  },
  {
   "cell_type": "markdown",
   "metadata": {},
   "source": [
    "### Visualisation des données"
   ]
  },
  {
   "cell_type": "code",
   "execution_count": 8,
   "metadata": {},
   "outputs": [
    {
     "data": {
      "text/plain": [
       "Index(['CHURN', 'AUTRE_ABONNEMENT', 'STATUT_RC_M1', 'STATUT_TRAFIC_M1',\n",
       "       'STATUT_FACT_M1', 'STATUT_TRAFIC_M2', 'STATUT_RC_M2', 'STATUT_FACT_M2'],\n",
       "      dtype='object')"
      ]
     },
     "execution_count": 8,
     "metadata": {},
     "output_type": "execute_result"
    }
   ],
   "source": [
    "#variables categorielles.to_list()\n",
    "categorical_columns=df.nunique()[df.nunique()<3].keys()\n",
    "categorical_columns"
   ]
  },
  {
   "cell_type": "code",
   "execution_count": 9,
   "metadata": {},
   "outputs": [
    {
     "data": {
      "text/plain": [
       "Index(['CHURN', 'AUTRE_ABONNEMENT', 'STATUT_RC_M1', 'STATUT_TRAFIC_M1',\n",
       "       'STATUT_FACT_M1', 'STATUT_TRAFIC_M2', 'STATUT_RC_M2', 'STATUT_FACT_M2'],\n",
       "      dtype='object')"
      ]
     },
     "execution_count": 9,
     "metadata": {},
     "output_type": "execute_result"
    }
   ],
   "source": [
    "categorical_columns"
   ]
  },
  {
   "cell_type": "code",
   "execution_count": 10,
   "metadata": {},
   "outputs": [],
   "source": [
    "# creation d'une fonction de construction de graphiques à barres de manière interactive\n",
    "def  bar_plot(a):\n",
    "    df[a].value_counts().plot(kind=\"pie\", autopct = lambda x: str(round(x, 1)) + '%')\n",
    "    plt.title('Distribution de ' + str(a))\n",
    "    return plt.show()"
   ]
  },
  {
   "cell_type": "code",
   "execution_count": 11,
   "metadata": {
    "scrolled": true
   },
   "outputs": [
    {
     "data": {
      "application/vnd.jupyter.widget-view+json": {
       "model_id": "f90b164018a94d87977ab30f6fb90b83",
       "version_major": 2,
       "version_minor": 0
      },
      "text/plain": [
       "interactive(children=(Dropdown(description='a', options=('CHURN', 'AUTRE_ABONNEMENT', 'STATUT_RC_M1', 'STATUT_…"
      ]
     },
     "metadata": {},
     "output_type": "display_data"
    },
    {
     "data": {
      "text/plain": [
       "<function __main__.bar_plot(a)>"
      ]
     },
     "execution_count": 11,
     "metadata": {},
     "output_type": "execute_result"
    }
   ],
   "source": [
    "#interaxct\n",
    "interact( bar_plot, a = categorical_columns )"
   ]
  },
  {
   "cell_type": "markdown",
   "metadata": {},
   "source": [
    "Vous pouvez interagir avec le notebook en selectionnant la variable catégorielle qui vous intéresse afin de visualiser sa distribution à travers le graphique à barre. Voici quelques informations importantes qu'on peut tirer des graphiques ci-dessus:\n",
    "\n",
    "- Il y a plus de clients qui n'ont pas churné (89.5%) que des clients qui ont churné (moins de 10.5%). Donc nous avons un problème de déséquilibre qu'il faudra absolument resoudre car cela peut impacter negativement la performance des modèles de classification que nous allons construire;\n",
    "   \n",
    "- La variable AUTRE_ABONNEMENT indique si le client détient une autre technologie(1), 0 sinon. Les deux categories presentent également un problème de desequilibre ( 83.9% pour 0 et  16.1% pour 1 );\n",
    "\n",
    "- Les clients n'ayant pas ouvert au moins une session internet il y a deux mois  est  superieur ( 84.4%) à ceux  ayant ouvert au moins une session internet il y a deux mois(15.6%);\n",
    "\n",
    "- Il y a plus de clients( 90.7%) ont ouvert au moins une session internet le mois precedent que de clients qui ne l'ont pas fait(moins de 9.3%);\n",
    "\n",
    "- Les  clients qui se sont rechargés  le mois precedent representent 86.4% contre 13.6% qui ne l'ont pas fait;\n",
    "\n",
    "- Les clients qui se sont rechargés il ya 2 mois ont une proportion de 77.7% ,tandis que ceux qui sont restés sans recharge il y a deux mois representent 22.3%;\n",
    "\n",
    "- La quasi totalité soit 98.6% des clients ont payé leur facture du mois dernier. Cela laisse une bonne appréhension sur la ponctualité des clients. \n",
    "\n",
    "- Un grand nombre de clients soit 98.5% a payé sa facture d'il y a deux mois.\n",
    "\n"
   ]
  },
  {
   "cell_type": "code",
   "execution_count": 12,
   "metadata": {
    "scrolled": true
   },
   "outputs": [
    {
     "data": {
      "text/plain": [
       "1- 03Mois     1738\n",
       "5- 18Mois      662\n",
       "3- 09Mois      631\n",
       "2- 06Mois      554\n",
       "4- 12Mois      528\n",
       "7- 25Mois+     511\n",
       "6- 24Mois      376\n",
       "Name: ANCIENNETE, dtype: int64"
      ]
     },
     "execution_count": 12,
     "metadata": {},
     "output_type": "execute_result"
    }
   ],
   "source": [
    "df[\"ANCIENNETE\"].value_counts()"
   ]
  },
  {
   "cell_type": "code",
   "execution_count": 13,
   "metadata": {
    "scrolled": true
   },
   "outputs": [
    {
     "data": {
      "image/png": "[encoded data removed]",
      "text/plain": [
       "<Figure size 576x432 with 1 Axes>"
      ]
     },
     "metadata": {
      "needs_background": "light"
     },
     "output_type": "display_data"
    }
   ],
   "source": [
    "fig, ax = plt.subplots(figsize=(8,6))\n",
    "ax.bar(x=df[\"ANCIENNETE\"].unique(), height=df[\"ANCIENNETE\"].value_counts(), color='r')\n",
    "ax.set_xlabel(xlabel='Ancienneté' ,color='b', size=20)\n",
    "ax.set_ylabel(ylabel='Effectifs' ,color='b', size=20)\n",
    "plt.xticks(rotation = 45)\n",
    "plt.title(\"Effectif par Tranche d'ancienneté\")\n",
    "plt.show()"
   ]
  },
  {
   "cell_type": "markdown",
   "metadata": {},
   "source": [
    "**Les clients ayant une ancienneté de 1 à 3 mois sont les plus nombreux. Ils sont environ 1750 soit 35% des clients. Les plus anciens c'est à dire ceux qui ont une ancienneté de 6 à 24 mois sont les moins nombreux environ 400 soit 8%.**"
   ]
  },
  {
   "cell_type": "code",
   "execution_count": 15,
   "metadata": {},
   "outputs": [],
   "source": [
    "# variables quantitative(continues)\n",
    "numeric_vars_columns =['VOL_DATA_M1' ,\n",
    "'MONTANT_FACT_HT_M1',\n",
    "'VOL_DATA_M2',\n",
    "'MONTANT_OM_HT_M2',\n",
    "'MONTANT_FACT_HT_M2',\n",
    "'VOL_TOT_DATA_KO_M1', \n",
    "'VOL_TOT_VOIX_M1', \n",
    "'CONSO_M1', \n",
    "'VOL_TOT_DATA_KO_M2'\n",
    ",'VOL_TOT_VOIX_M2', \n",
    "'CONSO_M2']"
   ]
  },
  {
   "cell_type": "code",
   "execution_count": 16,
   "metadata": {},
   "outputs": [],
   "source": [
    "# Création d'une fonction de construction d'histogrammes et de manière interactive\n",
    "def hist_plot(b):\n",
    "    sns.distplot(df[b],kde=False)\n",
    "    plt.title('Histogramme de ' +str(b))\n",
    "    return plt.show()"
   ]
  },
  {
   "cell_type": "code",
   "execution_count": 17,
   "metadata": {},
   "outputs": [
    {
     "data": {
      "application/vnd.jupyter.widget-view+json": {
       "model_id": "573d174865c54890981a7ee75de06aa9",
       "version_major": 2,
       "version_minor": 0
      },
      "text/plain": [
       "interactive(children=(Dropdown(description='b', options=('VOL_DATA_M1', 'MONTANT_FACT_HT_M1', 'VOL_DATA_M2', '…"
      ]
     },
     "metadata": {},
     "output_type": "display_data"
    }
   ],
   "source": [
    "#interact\n",
    "interact(hist_plot, b = numeric_vars_columns);   "
   ]
  },
  {
   "cell_type": "markdown",
   "metadata": {},
   "source": [
    "Vous pouvez interagir avec le notebook en selectionnant la variable quantitative qui vous intéresse afin de visualiser sa distribution à travers son histogramme."
   ]
  },
  {
   "cell_type": "code",
   "execution_count": 18,
   "metadata": {
    "scrolled": true
   },
   "outputs": [
    {
     "name": "stdout",
     "output_type": "stream",
     "text": [
      "Le coefficient d'asymétrie de la variable VOL_DATA_M1 est:  4.52215592663575\n",
      "Le coefficient d'asymétrie de la variable MONTANT_FACT_HT_M1 est:  11.467646151408648\n",
      "Le coefficient d'asymétrie de la variable VOL_DATA_M2 est:  4.534014316466273\n",
      "Le coefficient d'asymétrie de la variable MONTANT_OM_HT_M2 est:  4.45310888071626\n",
      "Le coefficient d'asymétrie de la variable MONTANT_FACT_HT_M2 est:  8.21487711627182\n",
      "Le coefficient d'asymétrie de la variable VOL_TOT_DATA_KO_M1 est:  3.0433309099584545\n",
      "Le coefficient d'asymétrie de la variable VOL_TOT_VOIX_M1 est:  2.0390431726930194\n",
      "Le coefficient d'asymétrie de la variable CONSO_M1 est:  4.382035464827729\n",
      "Le coefficient d'asymétrie de la variable VOL_TOT_DATA_KO_M2 est:  3.4122732285323316\n",
      "Le coefficient d'asymétrie de la variable VOL_TOT_VOIX_M2 est:  2.7739024206463503\n",
      "Le coefficient d'asymétrie de la variable CONSO_M2 est:  4.009578784945109\n"
     ]
    }
   ],
   "source": [
    "for i in numeric_vars_columns:\n",
    "    print(\"Le coefficient d'asymétrie de la variable \" + i, \"est: \" ,df[i].skew())"
   ]
  },
  {
   "cell_type": "markdown",
   "metadata": {},
   "source": [
    "**On observe donc en général une très forte asymétrie positive dans la distribution des données.**"
   ]
  },
  {
   "cell_type": "code",
   "execution_count": 27,
   "metadata": {
    "scrolled": true
   },
   "outputs": [
    {
     "data": {
      "text/html": [
       "<div>\n",
       "<style scoped>\n",
       "    .dataframe tbody tr th:only-of-type {\n",
       "        vertical-align: middle;\n",
       "    }\n",
       "\n",
       "    .dataframe tbody tr th {\n",
       "        vertical-align: top;\n",
       "    }\n",
       "\n",
       "    .dataframe thead th {\n",
       "        text-align: right;\n",
       "    }\n",
       "</style>\n",
       "<table border=\"1\" class=\"dataframe\">\n",
       "  <thead>\n",
       "    <tr style=\"text-align: right;\">\n",
       "      <th></th>\n",
       "      <th>VOL_DATA_M1</th>\n",
       "      <th>MONTANT_FACT_HT_M1</th>\n",
       "      <th>VOL_DATA_M2</th>\n",
       "      <th>MONTANT_OM_HT_M2</th>\n",
       "      <th>MONTANT_FACT_HT_M2</th>\n",
       "      <th>VOL_TOT_DATA_KO_M1</th>\n",
       "      <th>VOL_TOT_VOIX_M1</th>\n",
       "      <th>CONSO_M1</th>\n",
       "      <th>VOL_TOT_DATA_KO_M2</th>\n",
       "      <th>VOL_TOT_VOIX_M2</th>\n",
       "      <th>CONSO_M2</th>\n",
       "    </tr>\n",
       "  </thead>\n",
       "  <tbody>\n",
       "    <tr>\n",
       "      <th>count</th>\n",
       "      <td>5000.000000</td>\n",
       "      <td>5000.000000</td>\n",
       "      <td>5000.000000</td>\n",
       "      <td>5000.000000</td>\n",
       "      <td>5000.000000</td>\n",
       "      <td>5.000000e+03</td>\n",
       "      <td>5000.000000</td>\n",
       "      <td>5000.000000</td>\n",
       "      <td>5.000000e+03</td>\n",
       "      <td>5000.000000</td>\n",
       "      <td>5000.000000</td>\n",
       "    </tr>\n",
       "    <tr>\n",
       "      <th>mean</th>\n",
       "      <td>10622.474627</td>\n",
       "      <td>202.544200</td>\n",
       "      <td>7438.129067</td>\n",
       "      <td>891.289256</td>\n",
       "      <td>160.172200</td>\n",
       "      <td>8.646443e+06</td>\n",
       "      <td>570.391740</td>\n",
       "      <td>9062.073946</td>\n",
       "      <td>8.184531e+06</td>\n",
       "      <td>579.232890</td>\n",
       "      <td>9617.798506</td>\n",
       "    </tr>\n",
       "    <tr>\n",
       "      <th>std</th>\n",
       "      <td>25680.421331</td>\n",
       "      <td>1926.870138</td>\n",
       "      <td>18848.854121</td>\n",
       "      <td>3060.934960</td>\n",
       "      <td>1628.113418</td>\n",
       "      <td>1.389074e+07</td>\n",
       "      <td>748.246872</td>\n",
       "      <td>11513.079406</td>\n",
       "      <td>1.386467e+07</td>\n",
       "      <td>776.577991</td>\n",
       "      <td>11940.361395</td>\n",
       "    </tr>\n",
       "    <tr>\n",
       "      <th>min</th>\n",
       "      <td>0.000000</td>\n",
       "      <td>0.000000</td>\n",
       "      <td>0.000000</td>\n",
       "      <td>0.000000</td>\n",
       "      <td>-21186.000000</td>\n",
       "      <td>0.000000e+00</td>\n",
       "      <td>0.000000</td>\n",
       "      <td>0.000000</td>\n",
       "      <td>0.000000e+00</td>\n",
       "      <td>0.000000</td>\n",
       "      <td>0.000000</td>\n",
       "    </tr>\n",
       "    <tr>\n",
       "      <th>25%</th>\n",
       "      <td>0.002953</td>\n",
       "      <td>0.000000</td>\n",
       "      <td>0.000000</td>\n",
       "      <td>0.000000</td>\n",
       "      <td>0.000000</td>\n",
       "      <td>0.000000e+00</td>\n",
       "      <td>0.000000</td>\n",
       "      <td>49.200000</td>\n",
       "      <td>0.000000e+00</td>\n",
       "      <td>0.133333</td>\n",
       "      <td>99.400000</td>\n",
       "    </tr>\n",
       "    <tr>\n",
       "      <th>50%</th>\n",
       "      <td>6.047841</td>\n",
       "      <td>0.000000</td>\n",
       "      <td>2.346563</td>\n",
       "      <td>0.000000</td>\n",
       "      <td>0.000000</td>\n",
       "      <td>2.583005e+06</td>\n",
       "      <td>279.216667</td>\n",
       "      <td>6301.115000</td>\n",
       "      <td>1.954476e+06</td>\n",
       "      <td>276.175000</td>\n",
       "      <td>6600.000000</td>\n",
       "    </tr>\n",
       "    <tr>\n",
       "      <th>75%</th>\n",
       "      <td>8339.003188</td>\n",
       "      <td>0.000000</td>\n",
       "      <td>1426.791827</td>\n",
       "      <td>0.000000</td>\n",
       "      <td>0.000000</td>\n",
       "      <td>1.211749e+07</td>\n",
       "      <td>902.395833</td>\n",
       "      <td>13608.750000</td>\n",
       "      <td>1.136733e+07</td>\n",
       "      <td>905.895833</td>\n",
       "      <td>14748.260000</td>\n",
       "    </tr>\n",
       "    <tr>\n",
       "      <th>max</th>\n",
       "      <td>357829.286163</td>\n",
       "      <td>42372.000000</td>\n",
       "      <td>293438.909859</td>\n",
       "      <td>28925.619835</td>\n",
       "      <td>21186.000000</td>\n",
       "      <td>1.904546e+08</td>\n",
       "      <td>6923.116667</td>\n",
       "      <td>192123.000000</td>\n",
       "      <td>1.831086e+08</td>\n",
       "      <td>13192.816667</td>\n",
       "      <td>250839.600000</td>\n",
       "    </tr>\n",
       "  </tbody>\n",
       "</table>\n",
       "</div>"
      ],
      "text/plain": [
       "         VOL_DATA_M1  MONTANT_FACT_HT_M1    VOL_DATA_M2  MONTANT_OM_HT_M2  \\\n",
       "count    5000.000000         5000.000000    5000.000000       5000.000000   \n",
       "mean    10622.474627          202.544200    7438.129067        891.289256   \n",
       "std     25680.421331         1926.870138   18848.854121       3060.934960   \n",
       "min         0.000000            0.000000       0.000000          0.000000   \n",
       "25%         0.002953            0.000000       0.000000          0.000000   \n",
       "50%         6.047841            0.000000       2.346563          0.000000   \n",
       "75%      8339.003188            0.000000    1426.791827          0.000000   \n",
       "max    357829.286163        42372.000000  293438.909859      28925.619835   \n",
       "\n",
       "       MONTANT_FACT_HT_M2  VOL_TOT_DATA_KO_M1  VOL_TOT_VOIX_M1       CONSO_M1  \\\n",
       "count         5000.000000        5.000000e+03      5000.000000    5000.000000   \n",
       "mean           160.172200        8.646443e+06       570.391740    9062.073946   \n",
       "std           1628.113418        1.389074e+07       748.246872   11513.079406   \n",
       "min         -21186.000000        0.000000e+00         0.000000       0.000000   \n",
       "25%              0.000000        0.000000e+00         0.000000      49.200000   \n",
       "50%              0.000000        2.583005e+06       279.216667    6301.115000   \n",
       "75%              0.000000        1.211749e+07       902.395833   13608.750000   \n",
       "max          21186.000000        1.904546e+08      6923.116667  192123.000000   \n",
       "\n",
       "       VOL_TOT_DATA_KO_M2  VOL_TOT_VOIX_M2       CONSO_M2  \n",
       "count        5.000000e+03      5000.000000    5000.000000  \n",
       "mean         8.184531e+06       579.232890    9617.798506  \n",
       "std          1.386467e+07       776.577991   11940.361395  \n",
       "min          0.000000e+00         0.000000       0.000000  \n",
       "25%          0.000000e+00         0.133333      99.400000  \n",
       "50%          1.954476e+06       276.175000    6600.000000  \n",
       "75%          1.136733e+07       905.895833   14748.260000  \n",
       "max          1.831086e+08     13192.816667  250839.600000  "
      ]
     },
     "execution_count": 27,
     "metadata": {},
     "output_type": "execute_result"
    }
   ],
   "source": [
    "#Description des variables quantitatives\n",
    "df1 = pd.read_csv(\"C:/Users/HP/Desktop/ISE_2/Machine_Learning/PROJET/DataSet_FDD.csv\", sep=\";\", index_col=\"ID\",dtype={'CHURN':'category', 'AUTRE_ABONNEMENT':'category', 'STATUT_RC_M1':'category', 'STATUT_TRAFIC_M1':'category',\n",
    "       'STATUT_FACT_M1':'category', 'STATUT_TRAFIC_M2':'category', 'STATUT_RC_M2':'category', 'STATUT_FACT_M2':'category'})\n",
    "df1 = df1.drop(\"MONTANT_OM_HT_M1\", axis = 1)\n",
    "df1.describe()"
   ]
  },
  {
   "cell_type": "markdown",
   "metadata": {},
   "source": [
    "**Ci-dessus le tableau présentant les caractéristiques de tendances centrales et dispersions des variables quantitatives continues.**"
   ]
  },
  {
   "cell_type": "markdown",
   "metadata": {},
   "source": [
    "## Analyse bivariée"
   ]
  },
  {
   "cell_type": "markdown",
   "metadata": {},
   "source": [
    "### Analyse de la corrélation"
   ]
  },
  {
   "cell_type": "code",
   "execution_count": 28,
   "metadata": {
    "scrolled": true
   },
   "outputs": [
    {
     "name": "stdout",
     "output_type": "stream",
     "text": [
      "\n",
      "--- Affichage des coefficients de corrélations de Spearman entre la variable CHURN et les autres variables. ---\n"
     ]
    },
    {
     "data": {
      "text/plain": [
       "CHURN                 1.000000\n",
       "STATUT_TRAFIC_M1      0.104340\n",
       "AUTRE_ABONNEMENT      0.016026\n",
       "STATUT_RC_M2         -0.005183\n",
       "MONTANT_OM_HT_M2     -0.007571\n",
       "CONSO_M1             -0.011935\n",
       "CONSO_M2             -0.015283\n",
       "VOL_TOT_DATA_KO_M1   -0.015572\n",
       "VOL_TOT_DATA_KO_M2   -0.018346\n",
       "VOL_DATA_M2          -0.025506\n",
       "VOL_TOT_VOIX_M2      -0.031468\n",
       "MONTANT_FACT_HT_M2   -0.034045\n",
       "MONTANT_FACT_HT_M1   -0.038461\n",
       "VOL_TOT_VOIX_M1      -0.039342\n",
       "STATUT_FACT_M1       -0.044360\n",
       "STATUT_FACT_M2       -0.048492\n",
       "VOL_DATA_M1          -0.075194\n",
       "STATUT_RC_M1         -0.088970\n",
       "STATUT_TRAFIC_M2     -0.139119\n",
       "Name: CHURN, dtype: float64"
      ]
     },
     "execution_count": 28,
     "metadata": {},
     "output_type": "execute_result"
    }
   ],
   "source": [
    "# Calcul de la corrélation de Spearman\n",
    "\n",
    "corr = df.corr(method='spearman')\n",
    "corr.sort_values(['CHURN'], ascending=False, inplace=True)\n",
    "\n",
    "print(\"\\n--- Affichage des coefficients de corrélations de Spearman entre la variable CHURN et les autres variables. ---\")\n",
    "corr.CHURN"
   ]
  },
  {
   "cell_type": "markdown",
   "metadata": {},
   "source": [
    "Nous constatons une faible corrélation entre la variable CHURN et certaines variables. \n",
    "\n",
    "Les variables les plus corrélées au CHURN sont :\n",
    "- STATUT_TRAFIC_M1\n",
    "- STATUT_FACT_M2\n",
    "- STATUT_FACT_M1\n",
    "- ANCIENNETE"
   ]
  },
  {
   "cell_type": "code",
   "execution_count": 29,
   "metadata": {},
   "outputs": [
    {
     "data": {
      "image/png": "[encoded data removed]",
      "text/plain": [
       "<Figure size 1296x720 with 2 Axes>"
      ]
     },
     "metadata": {
      "needs_background": "light"
     },
     "output_type": "display_data"
    }
   ],
   "source": [
    "# Affichage du heatmap\n",
    "plt.figure(figsize = (18, 10))\n",
    "sns.heatmap(df.corr(method='spearman'),  vmin=-1,vmax=1, annot=True)\n",
    "plt.title(\"Heatmap\")\n",
    "plt.show()"
   ]
  },
  {
   "cell_type": "code",
   "execution_count": 30,
   "metadata": {},
   "outputs": [
    {
     "data": {
      "text/plain": [
       "ID\n",
       "72814847    0\n",
       "63091394    0\n",
       "68479934    0\n",
       "60533011    0\n",
       "74240944    0\n",
       "67218316    1\n",
       "61775907    0\n",
       "72910264    0\n",
       "72890931    1\n",
       "74969113    0\n",
       "Name: CHURN, dtype: int64"
      ]
     },
     "execution_count": 30,
     "metadata": {},
     "output_type": "execute_result"
    }
   ],
   "source": [
    "# Affichage de quelques valeurs de notre variable à prédire\n",
    "df['CHURN'][:10]"
   ]
  },
  {
   "cell_type": "code",
   "execution_count": 31,
   "metadata": {},
   "outputs": [
    {
     "data": {
      "text/plain": [
       "0    4473\n",
       "1     527\n",
       "Name: CHURN, dtype: int64"
      ]
     },
     "execution_count": 31,
     "metadata": {},
     "output_type": "execute_result"
    }
   ],
   "source": [
    "# Affichage des proportions des modalités\n",
    "df['CHURN'].value_counts()"
   ]
  },
  {
   "cell_type": "markdown",
   "metadata": {},
   "source": [
    "Nous avons un déséquilibre dans les classes.\n",
    "\n",
    "La proportion des individus ayant résilié est faible.\n",
    "\n",
    "### Nous pouvons donc dire qu'en majorité, les clients restent fidèles à l'entreprise."
   ]
  },
  {
   "cell_type": "markdown",
   "metadata": {},
   "source": [
    "# Traitement des données"
   ]
  },
  {
   "cell_type": "markdown",
   "metadata": {},
   "source": [
    "Y a-t-il des valeurs manquantes dans notre jeu de données? "
   ]
  },
  {
   "cell_type": "code",
   "execution_count": 32,
   "metadata": {},
   "outputs": [
    {
     "data": {
      "text/plain": [
       "CHURN                    0\n",
       "AUTRE_ABONNEMENT         0\n",
       "ANCIENNETE               0\n",
       "STATUT_RC_M1             0\n",
       "STATUT_TRAFIC_M1       624\n",
       "STATUT_FACT_M1         624\n",
       "STATUT_TRAFIC_M2      1121\n",
       "STATUT_RC_M2             0\n",
       "STATUT_FACT_M2        1121\n",
       "VOL_DATA_M1              0\n",
       "MONTANT_FACT_HT_M1       0\n",
       "VOL_DATA_M2              0\n",
       "MONTANT_OM_HT_M2         0\n",
       "MONTANT_FACT_HT_M2       0\n",
       "VOL_TOT_DATA_KO_M1       0\n",
       "VOL_TOT_VOIX_M1          0\n",
       "CONSO_M1                 0\n",
       "VOL_TOT_DATA_KO_M2       0\n",
       "VOL_TOT_VOIX_M2          0\n",
       "CONSO_M2                 0\n",
       "dtype: int64"
      ]
     },
     "execution_count": 32,
     "metadata": {},
     "output_type": "execute_result"
    }
   ],
   "source": [
    "# Affichage du nombre de valeurs manquantes pour chaque variable\n",
    "df.isna().sum()"
   ]
  },
  {
   "cell_type": "code",
   "execution_count": 33,
   "metadata": {},
   "outputs": [
    {
     "data": {
      "text/plain": [
       "['STATUT_TRAFIC_M1', 'STATUT_FACT_M1', 'STATUT_TRAFIC_M2', 'STATUT_FACT_M2']"
      ]
     },
     "execution_count": 33,
     "metadata": {},
     "output_type": "execute_result"
    }
   ],
   "source": [
    "# Récupération de la liste des variables qui comportent des valeurs manquantes\n",
    "null_variables = df.columns[df.isnull().any()].tolist()\n",
    "null_variables"
   ]
  },
  {
   "cell_type": "markdown",
   "metadata": {},
   "source": [
    "Il y'a des valeurs manquantes dans les bases de données sur les variables suivantes : **STATUT_TRAFIC_M1**, **STATUT_FACT_M1**, **STATUT_TRAFIC_M2**, **STATUT_FACT_M2**"
   ]
  },
  {
   "cell_type": "code",
   "execution_count": 34,
   "metadata": {},
   "outputs": [
    {
     "name": "stdout",
     "output_type": "stream",
     "text": [
      "STATUT_TRAFIC_M1 [ 1.  0. nan]\n",
      "STATUT_FACT_M1 [ 0. nan  1.]\n",
      "STATUT_TRAFIC_M2 [ 1. nan  0.]\n",
      "STATUT_FACT_M2 [ 0. nan  1.]\n"
     ]
    }
   ],
   "source": [
    "# Affichage des modalités qui comporte des valeurs manquantes\n",
    "for col in null_variables:\n",
    "    print(col, df[col].unique())"
   ]
  },
  {
   "cell_type": "markdown",
   "metadata": {},
   "source": [
    "### Traitement des valeurs manquantes"
   ]
  },
  {
   "cell_type": "markdown",
   "metadata": {},
   "source": [
    "Les variables manquantes sont catégorielles et comportent chacune deux modalités. \n",
    "\n",
    "Vu que les valeurs manquantes ne sont pas aléatoires, nous allons donc les imputer  en créant une troisième modalité \"Je ne sais pas\" avec la valeur -1."
   ]
  },
  {
   "cell_type": "code",
   "execution_count": 35,
   "metadata": {},
   "outputs": [],
   "source": [
    "# Imputation des valeurs manquantes\n",
    "impute_value = -1 # Imputer les valeurs manquantes avec la valeur -1\n",
    "for col in null_variables:\n",
    "    df[col].fillna(impute_value, inplace=True) # Remplacer les valeurs manquantes par la valeur imputée"
   ]
  },
  {
   "cell_type": "code",
   "execution_count": 36,
   "metadata": {},
   "outputs": [
    {
     "data": {
      "text/html": [
       "<div>\n",
       "<style scoped>\n",
       "    .dataframe tbody tr th:only-of-type {\n",
       "        vertical-align: middle;\n",
       "    }\n",
       "\n",
       "    .dataframe tbody tr th {\n",
       "        vertical-align: top;\n",
       "    }\n",
       "\n",
       "    .dataframe thead th {\n",
       "        text-align: right;\n",
       "    }\n",
       "</style>\n",
       "<table border=\"1\" class=\"dataframe\">\n",
       "  <thead>\n",
       "    <tr style=\"text-align: right;\">\n",
       "      <th></th>\n",
       "      <th>CHURN</th>\n",
       "      <th>AUTRE_ABONNEMENT</th>\n",
       "      <th>ANCIENNETE</th>\n",
       "      <th>STATUT_RC_M1</th>\n",
       "      <th>STATUT_TRAFIC_M1</th>\n",
       "      <th>STATUT_FACT_M1</th>\n",
       "      <th>STATUT_TRAFIC_M2</th>\n",
       "      <th>STATUT_RC_M2</th>\n",
       "      <th>STATUT_FACT_M2</th>\n",
       "      <th>VOL_DATA_M1</th>\n",
       "      <th>MONTANT_FACT_HT_M1</th>\n",
       "      <th>VOL_DATA_M2</th>\n",
       "      <th>MONTANT_OM_HT_M2</th>\n",
       "      <th>MONTANT_FACT_HT_M2</th>\n",
       "      <th>VOL_TOT_DATA_KO_M1</th>\n",
       "      <th>VOL_TOT_VOIX_M1</th>\n",
       "      <th>CONSO_M1</th>\n",
       "      <th>VOL_TOT_DATA_KO_M2</th>\n",
       "      <th>VOL_TOT_VOIX_M2</th>\n",
       "      <th>CONSO_M2</th>\n",
       "    </tr>\n",
       "    <tr>\n",
       "      <th>ID</th>\n",
       "      <th></th>\n",
       "      <th></th>\n",
       "      <th></th>\n",
       "      <th></th>\n",
       "      <th></th>\n",
       "      <th></th>\n",
       "      <th></th>\n",
       "      <th></th>\n",
       "      <th></th>\n",
       "      <th></th>\n",
       "      <th></th>\n",
       "      <th></th>\n",
       "      <th></th>\n",
       "      <th></th>\n",
       "      <th></th>\n",
       "      <th></th>\n",
       "      <th></th>\n",
       "      <th></th>\n",
       "      <th></th>\n",
       "      <th></th>\n",
       "    </tr>\n",
       "  </thead>\n",
       "  <tbody>\n",
       "    <tr>\n",
       "      <th>72814847</th>\n",
       "      <td>0</td>\n",
       "      <td>1</td>\n",
       "      <td>1- 03Mois</td>\n",
       "      <td>0</td>\n",
       "      <td>1.0</td>\n",
       "      <td>0.0</td>\n",
       "      <td>1.0</td>\n",
       "      <td>1</td>\n",
       "      <td>0.0</td>\n",
       "      <td>14607.490139</td>\n",
       "      <td>0</td>\n",
       "      <td>10877.494672</td>\n",
       "      <td>0.000000</td>\n",
       "      <td>0</td>\n",
       "      <td>1.668031e+06</td>\n",
       "      <td>1550.166667</td>\n",
       "      <td>21563.55</td>\n",
       "      <td>7.511209e+05</td>\n",
       "      <td>1965.633333</td>\n",
       "      <td>33256.33</td>\n",
       "    </tr>\n",
       "    <tr>\n",
       "      <th>63091394</th>\n",
       "      <td>0</td>\n",
       "      <td>1</td>\n",
       "      <td>5- 18Mois</td>\n",
       "      <td>0</td>\n",
       "      <td>1.0</td>\n",
       "      <td>0.0</td>\n",
       "      <td>1.0</td>\n",
       "      <td>1</td>\n",
       "      <td>0.0</td>\n",
       "      <td>63345.120289</td>\n",
       "      <td>0</td>\n",
       "      <td>36718.363304</td>\n",
       "      <td>4132.231405</td>\n",
       "      <td>0</td>\n",
       "      <td>2.938960e+07</td>\n",
       "      <td>1941.483333</td>\n",
       "      <td>10000.00</td>\n",
       "      <td>4.009789e+06</td>\n",
       "      <td>316.966667</td>\n",
       "      <td>40001.62</td>\n",
       "    </tr>\n",
       "    <tr>\n",
       "      <th>68479934</th>\n",
       "      <td>0</td>\n",
       "      <td>1</td>\n",
       "      <td>3- 09Mois</td>\n",
       "      <td>1</td>\n",
       "      <td>1.0</td>\n",
       "      <td>0.0</td>\n",
       "      <td>1.0</td>\n",
       "      <td>0</td>\n",
       "      <td>0.0</td>\n",
       "      <td>83355.802775</td>\n",
       "      <td>0</td>\n",
       "      <td>16.051505</td>\n",
       "      <td>0.000000</td>\n",
       "      <td>0</td>\n",
       "      <td>1.123436e+07</td>\n",
       "      <td>1864.066667</td>\n",
       "      <td>24500.00</td>\n",
       "      <td>2.080931e+07</td>\n",
       "      <td>1852.283333</td>\n",
       "      <td>22502.26</td>\n",
       "    </tr>\n",
       "    <tr>\n",
       "      <th>60533011</th>\n",
       "      <td>0</td>\n",
       "      <td>0</td>\n",
       "      <td>5- 18Mois</td>\n",
       "      <td>0</td>\n",
       "      <td>1.0</td>\n",
       "      <td>0.0</td>\n",
       "      <td>1.0</td>\n",
       "      <td>0</td>\n",
       "      <td>0.0</td>\n",
       "      <td>3.163406</td>\n",
       "      <td>0</td>\n",
       "      <td>5.017221</td>\n",
       "      <td>0.000000</td>\n",
       "      <td>0</td>\n",
       "      <td>3.393805e+06</td>\n",
       "      <td>15.033333</td>\n",
       "      <td>7108.00</td>\n",
       "      <td>1.782441e+05</td>\n",
       "      <td>49.933333</td>\n",
       "      <td>3103.00</td>\n",
       "    </tr>\n",
       "    <tr>\n",
       "      <th>74240944</th>\n",
       "      <td>0</td>\n",
       "      <td>0</td>\n",
       "      <td>1- 03Mois</td>\n",
       "      <td>1</td>\n",
       "      <td>0.0</td>\n",
       "      <td>0.0</td>\n",
       "      <td>-1.0</td>\n",
       "      <td>0</td>\n",
       "      <td>-1.0</td>\n",
       "      <td>0.000000</td>\n",
       "      <td>0</td>\n",
       "      <td>0.000000</td>\n",
       "      <td>0.000000</td>\n",
       "      <td>0</td>\n",
       "      <td>5.990114e+06</td>\n",
       "      <td>858.283333</td>\n",
       "      <td>5060.00</td>\n",
       "      <td>7.683316e+06</td>\n",
       "      <td>1267.516667</td>\n",
       "      <td>3000.00</td>\n",
       "    </tr>\n",
       "    <tr>\n",
       "      <th>67218316</th>\n",
       "      <td>1</td>\n",
       "      <td>0</td>\n",
       "      <td>3- 09Mois</td>\n",
       "      <td>0</td>\n",
       "      <td>1.0</td>\n",
       "      <td>0.0</td>\n",
       "      <td>0.0</td>\n",
       "      <td>0</td>\n",
       "      <td>0.0</td>\n",
       "      <td>0.518638</td>\n",
       "      <td>0</td>\n",
       "      <td>0.000000</td>\n",
       "      <td>0.000000</td>\n",
       "      <td>0</td>\n",
       "      <td>0.000000e+00</td>\n",
       "      <td>0.000000</td>\n",
       "      <td>0.00</td>\n",
       "      <td>0.000000e+00</td>\n",
       "      <td>0.000000</td>\n",
       "      <td>0.00</td>\n",
       "    </tr>\n",
       "    <tr>\n",
       "      <th>61775907</th>\n",
       "      <td>0</td>\n",
       "      <td>0</td>\n",
       "      <td>5- 18Mois</td>\n",
       "      <td>0</td>\n",
       "      <td>1.0</td>\n",
       "      <td>0.0</td>\n",
       "      <td>0.0</td>\n",
       "      <td>0</td>\n",
       "      <td>0.0</td>\n",
       "      <td>1.763275</td>\n",
       "      <td>0</td>\n",
       "      <td>0.000000</td>\n",
       "      <td>0.000000</td>\n",
       "      <td>0</td>\n",
       "      <td>2.659557e+06</td>\n",
       "      <td>48.750000</td>\n",
       "      <td>1100.00</td>\n",
       "      <td>0.000000e+00</td>\n",
       "      <td>0.000000</td>\n",
       "      <td>0.00</td>\n",
       "    </tr>\n",
       "    <tr>\n",
       "      <th>72910264</th>\n",
       "      <td>0</td>\n",
       "      <td>0</td>\n",
       "      <td>1- 03Mois</td>\n",
       "      <td>0</td>\n",
       "      <td>1.0</td>\n",
       "      <td>0.0</td>\n",
       "      <td>1.0</td>\n",
       "      <td>1</td>\n",
       "      <td>0.0</td>\n",
       "      <td>38256.042929</td>\n",
       "      <td>0</td>\n",
       "      <td>2997.695283</td>\n",
       "      <td>0.000000</td>\n",
       "      <td>0</td>\n",
       "      <td>3.043016e+07</td>\n",
       "      <td>615.633333</td>\n",
       "      <td>19200.00</td>\n",
       "      <td>1.437340e+07</td>\n",
       "      <td>1105.633333</td>\n",
       "      <td>14000.00</td>\n",
       "    </tr>\n",
       "    <tr>\n",
       "      <th>72890931</th>\n",
       "      <td>1</td>\n",
       "      <td>1</td>\n",
       "      <td>1- 03Mois</td>\n",
       "      <td>0</td>\n",
       "      <td>1.0</td>\n",
       "      <td>0.0</td>\n",
       "      <td>1.0</td>\n",
       "      <td>1</td>\n",
       "      <td>0.0</td>\n",
       "      <td>8698.940615</td>\n",
       "      <td>0</td>\n",
       "      <td>25810.569751</td>\n",
       "      <td>0.000000</td>\n",
       "      <td>0</td>\n",
       "      <td>4.237045e+07</td>\n",
       "      <td>166.350000</td>\n",
       "      <td>27554.30</td>\n",
       "      <td>6.304181e+07</td>\n",
       "      <td>322.183333</td>\n",
       "      <td>32380.60</td>\n",
       "    </tr>\n",
       "    <tr>\n",
       "      <th>74969113</th>\n",
       "      <td>0</td>\n",
       "      <td>0</td>\n",
       "      <td>1- 03Mois</td>\n",
       "      <td>0</td>\n",
       "      <td>-1.0</td>\n",
       "      <td>-1.0</td>\n",
       "      <td>-1.0</td>\n",
       "      <td>0</td>\n",
       "      <td>-1.0</td>\n",
       "      <td>0.000000</td>\n",
       "      <td>0</td>\n",
       "      <td>0.000000</td>\n",
       "      <td>0.000000</td>\n",
       "      <td>0</td>\n",
       "      <td>0.000000e+00</td>\n",
       "      <td>0.000000</td>\n",
       "      <td>0.00</td>\n",
       "      <td>0.000000e+00</td>\n",
       "      <td>0.000000</td>\n",
       "      <td>0.00</td>\n",
       "    </tr>\n",
       "  </tbody>\n",
       "</table>\n",
       "</div>"
      ],
      "text/plain": [
       "          CHURN  AUTRE_ABONNEMENT ANCIENNETE  STATUT_RC_M1  STATUT_TRAFIC_M1  \\\n",
       "ID                                                                             \n",
       "72814847      0                 1  1- 03Mois             0               1.0   \n",
       "63091394      0                 1  5- 18Mois             0               1.0   \n",
       "68479934      0                 1  3- 09Mois             1               1.0   \n",
       "60533011      0                 0  5- 18Mois             0               1.0   \n",
       "74240944      0                 0  1- 03Mois             1               0.0   \n",
       "67218316      1                 0  3- 09Mois             0               1.0   \n",
       "61775907      0                 0  5- 18Mois             0               1.0   \n",
       "72910264      0                 0  1- 03Mois             0               1.0   \n",
       "72890931      1                 1  1- 03Mois             0               1.0   \n",
       "74969113      0                 0  1- 03Mois             0              -1.0   \n",
       "\n",
       "          STATUT_FACT_M1  STATUT_TRAFIC_M2  STATUT_RC_M2  STATUT_FACT_M2  \\\n",
       "ID                                                                         \n",
       "72814847             0.0               1.0             1             0.0   \n",
       "63091394             0.0               1.0             1             0.0   \n",
       "68479934             0.0               1.0             0             0.0   \n",
       "60533011             0.0               1.0             0             0.0   \n",
       "74240944             0.0              -1.0             0            -1.0   \n",
       "67218316             0.0               0.0             0             0.0   \n",
       "61775907             0.0               0.0             0             0.0   \n",
       "72910264             0.0               1.0             1             0.0   \n",
       "72890931             0.0               1.0             1             0.0   \n",
       "74969113            -1.0              -1.0             0            -1.0   \n",
       "\n",
       "           VOL_DATA_M1  MONTANT_FACT_HT_M1   VOL_DATA_M2  MONTANT_OM_HT_M2  \\\n",
       "ID                                                                           \n",
       "72814847  14607.490139                   0  10877.494672          0.000000   \n",
       "63091394  63345.120289                   0  36718.363304       4132.231405   \n",
       "68479934  83355.802775                   0     16.051505          0.000000   \n",
       "60533011      3.163406                   0      5.017221          0.000000   \n",
       "74240944      0.000000                   0      0.000000          0.000000   \n",
       "67218316      0.518638                   0      0.000000          0.000000   \n",
       "61775907      1.763275                   0      0.000000          0.000000   \n",
       "72910264  38256.042929                   0   2997.695283          0.000000   \n",
       "72890931   8698.940615                   0  25810.569751          0.000000   \n",
       "74969113      0.000000                   0      0.000000          0.000000   \n",
       "\n",
       "          MONTANT_FACT_HT_M2  VOL_TOT_DATA_KO_M1  VOL_TOT_VOIX_M1  CONSO_M1  \\\n",
       "ID                                                                            \n",
       "72814847                   0        1.668031e+06      1550.166667  21563.55   \n",
       "63091394                   0        2.938960e+07      1941.483333  10000.00   \n",
       "68479934                   0        1.123436e+07      1864.066667  24500.00   \n",
       "60533011                   0        3.393805e+06        15.033333   7108.00   \n",
       "74240944                   0        5.990114e+06       858.283333   5060.00   \n",
       "67218316                   0        0.000000e+00         0.000000      0.00   \n",
       "61775907                   0        2.659557e+06        48.750000   1100.00   \n",
       "72910264                   0        3.043016e+07       615.633333  19200.00   \n",
       "72890931                   0        4.237045e+07       166.350000  27554.30   \n",
       "74969113                   0        0.000000e+00         0.000000      0.00   \n",
       "\n",
       "          VOL_TOT_DATA_KO_M2  VOL_TOT_VOIX_M2  CONSO_M2  \n",
       "ID                                                       \n",
       "72814847        7.511209e+05      1965.633333  33256.33  \n",
       "63091394        4.009789e+06       316.966667  40001.62  \n",
       "68479934        2.080931e+07      1852.283333  22502.26  \n",
       "60533011        1.782441e+05        49.933333   3103.00  \n",
       "74240944        7.683316e+06      1267.516667   3000.00  \n",
       "67218316        0.000000e+00         0.000000      0.00  \n",
       "61775907        0.000000e+00         0.000000      0.00  \n",
       "72910264        1.437340e+07      1105.633333  14000.00  \n",
       "72890931        6.304181e+07       322.183333  32380.60  \n",
       "74969113        0.000000e+00         0.000000      0.00  "
      ]
     },
     "execution_count": 36,
     "metadata": {},
     "output_type": "execute_result"
    }
   ],
   "source": [
    "# Affichage de la base avec le traitement des valeurs manquantes\n",
    "df.head(10)"
   ]
  },
  {
   "cell_type": "markdown",
   "metadata": {},
   "source": [
    "Maintenant que nous avons remplacé les valeurs manquantes par -1, verifions qu'il n'y a plus de valeurs manquantes"
   ]
  },
  {
   "cell_type": "code",
   "execution_count": 37,
   "metadata": {},
   "outputs": [
    {
     "data": {
      "text/plain": [
       "CHURN                 0\n",
       "AUTRE_ABONNEMENT      0\n",
       "ANCIENNETE            0\n",
       "STATUT_RC_M1          0\n",
       "STATUT_TRAFIC_M1      0\n",
       "STATUT_FACT_M1        0\n",
       "STATUT_TRAFIC_M2      0\n",
       "STATUT_RC_M2          0\n",
       "STATUT_FACT_M2        0\n",
       "VOL_DATA_M1           0\n",
       "MONTANT_FACT_HT_M1    0\n",
       "VOL_DATA_M2           0\n",
       "MONTANT_OM_HT_M2      0\n",
       "MONTANT_FACT_HT_M2    0\n",
       "VOL_TOT_DATA_KO_M1    0\n",
       "VOL_TOT_VOIX_M1       0\n",
       "CONSO_M1              0\n",
       "VOL_TOT_DATA_KO_M2    0\n",
       "VOL_TOT_VOIX_M2       0\n",
       "CONSO_M2              0\n",
       "dtype: int64"
      ]
     },
     "execution_count": 37,
     "metadata": {},
     "output_type": "execute_result"
    }
   ],
   "source": [
    "# Vérification\n",
    "df.isna().sum()"
   ]
  },
  {
   "cell_type": "markdown",
   "metadata": {},
   "source": [
    "# Nettoyage des données"
   ]
  },
  {
   "cell_type": "markdown",
   "metadata": {},
   "source": [
    "Nous commençons par remplacer les points les virgules par les points pour nous assurer de la bonne validation du type des données."
   ]
  },
  {
   "cell_type": "code",
   "execution_count": 38,
   "metadata": {},
   "outputs": [],
   "source": [
    "df = df.replace(\",\", \".\", regex=True)"
   ]
  },
  {
   "cell_type": "markdown",
   "metadata": {},
   "source": [
    "Nous voulons recoder la modalité ANCIENNETE afin de la mettre dans un mode bien défini."
   ]
  },
  {
   "cell_type": "code",
   "execution_count": 39,
   "metadata": {},
   "outputs": [
    {
     "data": {
      "text/plain": [
       "array(['1- 03Mois', '5- 18Mois', '3- 09Mois', '2- 06Mois', '4- 12Mois',\n",
       "       '7- 25Mois+', '6- 24Mois'], dtype=object)"
      ]
     },
     "execution_count": 39,
     "metadata": {},
     "output_type": "execute_result"
    }
   ],
   "source": [
    "# Affichage des modalités de la variable ANCIENNETE\n",
    "df[\"ANCIENNETE\"].unique()"
   ]
  },
  {
   "cell_type": "markdown",
   "metadata": {},
   "source": [
    "Recodons les modalités de la variable ANCIENNETE"
   ]
  },
  {
   "cell_type": "code",
   "execution_count": 40,
   "metadata": {},
   "outputs": [],
   "source": [
    "# Recodage de la varables \n",
    "recodage = {'1- 03Mois': 1, '5- 18Mois': 2, '3- 09Mois' : 3,'2- 06Mois': 4, '4- 12Mois': 5, '7- 25Mois+': 6, '6- 24Mois': 7}"
   ]
  },
  {
   "cell_type": "code",
   "execution_count": 41,
   "metadata": {},
   "outputs": [],
   "source": [
    "# Remplacement des données par les valeurs de recodage\n",
    "df['ANCIENNETE'] = df['ANCIENNETE'].map(recodage)"
   ]
  },
  {
   "cell_type": "code",
   "execution_count": 42,
   "metadata": {},
   "outputs": [
    {
     "data": {
      "text/plain": [
       "array([1, 2, 3, 4, 5, 6, 7], dtype=int64)"
      ]
     },
     "execution_count": 42,
     "metadata": {},
     "output_type": "execute_result"
    }
   ],
   "source": [
    "# Vérification\n",
    "df[\"ANCIENNETE\"].unique()"
   ]
  },
  {
   "cell_type": "markdown",
   "metadata": {},
   "source": [
    "# Construction des échantillons"
   ]
  },
  {
   "cell_type": "markdown",
   "metadata": {},
   "source": [
    "## Train, test, validation"
   ]
  },
  {
   "cell_type": "code",
   "execution_count": 43,
   "metadata": {},
   "outputs": [],
   "source": [
    "X = df.drop('CHURN', axis = 1)\n",
    "y = df['CHURN']\n",
    "seed = 42\n",
    "\n",
    "X_train, X_test, y_train, y_test = train_test_split(X, y, test_size = 0.3, \n",
    "                                                    random_state = seed, stratify=y)\n",
    "\n",
    "X_val, X_test, y_val, y_test = train_test_split(X_test, y_test, test_size = 0.5, \n",
    "                                                    random_state = seed, stratify=y_test)"
   ]
  },
  {
   "cell_type": "code",
   "execution_count": 44,
   "metadata": {},
   "outputs": [
    {
     "name": "stdout",
     "output_type": "stream",
     "text": [
      "------ Dimensions des données d'entrainement -------\n",
      "Train : (3500, 19)\n",
      "\n",
      "------ Dimensions des données de validation -------\n",
      "Test : (750, 19)\n",
      "\n",
      "------ Dimensions des données de test -------\n",
      "Val : (750, 19)\n"
     ]
    }
   ],
   "source": [
    "# Dimensions des bases de données\n",
    "\n",
    "print(\"------ Dimensions des données d'entrainement -------\")\n",
    "print(\"Train :\", X_train.shape)\n",
    "\n",
    "print(\"\\n------ Dimensions des données de validation -------\")\n",
    "print(\"Test :\", X_test.shape)\n",
    "\n",
    "      \n",
    "print(\"\\n------ Dimensions des données de test -------\")\n",
    "print(\"Val :\", X_val.shape)"
   ]
  },
  {
   "cell_type": "markdown",
   "metadata": {},
   "source": [
    "Etant donné le déséquilibre entre les modalités de la variable CHURN, nous allons procéder à un suréchantillonnage de la modalité la moins représentée."
   ]
  },
  {
   "cell_type": "markdown",
   "metadata": {},
   "source": [
    "## Rééchantillonage"
   ]
  },
  {
   "cell_type": "markdown",
   "metadata": {},
   "source": [
    "### Sur échantillonnage"
   ]
  },
  {
   "cell_type": "code",
   "execution_count": 45,
   "metadata": {},
   "outputs": [
    {
     "name": "stderr",
     "output_type": "stream",
     "text": [
      "C:\\Users\\HP\\anaconda3\\lib\\site-packages\\ipykernel_launcher.py:2: SettingWithCopyWarning: \n",
      "A value is trying to be set on a copy of a slice from a DataFrame.\n",
      "Try using .loc[row_indexer,col_indexer] = value instead\n",
      "\n",
      "See the caveats in the documentation: https://pandas.pydata.org/pandas-docs/stable/user_guide/indexing.html#returning-a-view-versus-a-copy\n",
      "  \n"
     ]
    },
    {
     "data": {
      "text/html": [
       "<div>\n",
       "<style scoped>\n",
       "    .dataframe tbody tr th:only-of-type {\n",
       "        vertical-align: middle;\n",
       "    }\n",
       "\n",
       "    .dataframe tbody tr th {\n",
       "        vertical-align: top;\n",
       "    }\n",
       "\n",
       "    .dataframe thead th {\n",
       "        text-align: right;\n",
       "    }\n",
       "</style>\n",
       "<table border=\"1\" class=\"dataframe\">\n",
       "  <thead>\n",
       "    <tr style=\"text-align: right;\">\n",
       "      <th></th>\n",
       "      <th>AUTRE_ABONNEMENT</th>\n",
       "      <th>ANCIENNETE</th>\n",
       "      <th>STATUT_RC_M1</th>\n",
       "      <th>STATUT_TRAFIC_M1</th>\n",
       "      <th>STATUT_FACT_M1</th>\n",
       "      <th>STATUT_TRAFIC_M2</th>\n",
       "      <th>STATUT_RC_M2</th>\n",
       "      <th>STATUT_FACT_M2</th>\n",
       "      <th>VOL_DATA_M1</th>\n",
       "      <th>MONTANT_FACT_HT_M1</th>\n",
       "      <th>VOL_DATA_M2</th>\n",
       "      <th>MONTANT_OM_HT_M2</th>\n",
       "      <th>MONTANT_FACT_HT_M2</th>\n",
       "      <th>VOL_TOT_DATA_KO_M1</th>\n",
       "      <th>VOL_TOT_VOIX_M1</th>\n",
       "      <th>CONSO_M1</th>\n",
       "      <th>VOL_TOT_DATA_KO_M2</th>\n",
       "      <th>VOL_TOT_VOIX_M2</th>\n",
       "      <th>CONSO_M2</th>\n",
       "      <th>CHURN</th>\n",
       "    </tr>\n",
       "    <tr>\n",
       "      <th>ID</th>\n",
       "      <th></th>\n",
       "      <th></th>\n",
       "      <th></th>\n",
       "      <th></th>\n",
       "      <th></th>\n",
       "      <th></th>\n",
       "      <th></th>\n",
       "      <th></th>\n",
       "      <th></th>\n",
       "      <th></th>\n",
       "      <th></th>\n",
       "      <th></th>\n",
       "      <th></th>\n",
       "      <th></th>\n",
       "      <th></th>\n",
       "      <th></th>\n",
       "      <th></th>\n",
       "      <th></th>\n",
       "      <th></th>\n",
       "      <th></th>\n",
       "    </tr>\n",
       "  </thead>\n",
       "  <tbody>\n",
       "    <tr>\n",
       "      <th>50588394</th>\n",
       "      <td>1</td>\n",
       "      <td>6</td>\n",
       "      <td>0</td>\n",
       "      <td>1.0</td>\n",
       "      <td>0.0</td>\n",
       "      <td>1.0</td>\n",
       "      <td>0</td>\n",
       "      <td>0.0</td>\n",
       "      <td>13.430252</td>\n",
       "      <td>0</td>\n",
       "      <td>4.864058</td>\n",
       "      <td>0.000000</td>\n",
       "      <td>0</td>\n",
       "      <td>1.265780e+07</td>\n",
       "      <td>2875.733333</td>\n",
       "      <td>28501.03</td>\n",
       "      <td>4.259225e+06</td>\n",
       "      <td>3173.916667</td>\n",
       "      <td>30399.05</td>\n",
       "      <td>0</td>\n",
       "    </tr>\n",
       "    <tr>\n",
       "      <th>60611415</th>\n",
       "      <td>0</td>\n",
       "      <td>2</td>\n",
       "      <td>0</td>\n",
       "      <td>1.0</td>\n",
       "      <td>0.0</td>\n",
       "      <td>1.0</td>\n",
       "      <td>0</td>\n",
       "      <td>0.0</td>\n",
       "      <td>17958.360283</td>\n",
       "      <td>0</td>\n",
       "      <td>2.323441</td>\n",
       "      <td>0.000000</td>\n",
       "      <td>0</td>\n",
       "      <td>0.000000e+00</td>\n",
       "      <td>99.033333</td>\n",
       "      <td>2150.00</td>\n",
       "      <td>0.000000e+00</td>\n",
       "      <td>97.883333</td>\n",
       "      <td>2650.85</td>\n",
       "      <td>0</td>\n",
       "    </tr>\n",
       "    <tr>\n",
       "      <th>69970095</th>\n",
       "      <td>0</td>\n",
       "      <td>4</td>\n",
       "      <td>0</td>\n",
       "      <td>1.0</td>\n",
       "      <td>0.0</td>\n",
       "      <td>1.0</td>\n",
       "      <td>0</td>\n",
       "      <td>0.0</td>\n",
       "      <td>3.677383</td>\n",
       "      <td>0</td>\n",
       "      <td>6.005781</td>\n",
       "      <td>0.000000</td>\n",
       "      <td>0</td>\n",
       "      <td>4.296979e+06</td>\n",
       "      <td>843.066667</td>\n",
       "      <td>12407.00</td>\n",
       "      <td>5.590349e+06</td>\n",
       "      <td>1622.366667</td>\n",
       "      <td>18900.98</td>\n",
       "      <td>0</td>\n",
       "    </tr>\n",
       "    <tr>\n",
       "      <th>74940370</th>\n",
       "      <td>0</td>\n",
       "      <td>1</td>\n",
       "      <td>0</td>\n",
       "      <td>-1.0</td>\n",
       "      <td>-1.0</td>\n",
       "      <td>-1.0</td>\n",
       "      <td>0</td>\n",
       "      <td>-1.0</td>\n",
       "      <td>0.000000</td>\n",
       "      <td>0</td>\n",
       "      <td>0.000000</td>\n",
       "      <td>0.000000</td>\n",
       "      <td>0</td>\n",
       "      <td>1.861370e+06</td>\n",
       "      <td>82.983333</td>\n",
       "      <td>5232.00</td>\n",
       "      <td>5.869998e+06</td>\n",
       "      <td>10.216667</td>\n",
       "      <td>7226.00</td>\n",
       "      <td>0</td>\n",
       "    </tr>\n",
       "    <tr>\n",
       "      <th>69900363</th>\n",
       "      <td>0</td>\n",
       "      <td>4</td>\n",
       "      <td>1</td>\n",
       "      <td>1.0</td>\n",
       "      <td>0.0</td>\n",
       "      <td>1.0</td>\n",
       "      <td>0</td>\n",
       "      <td>0.0</td>\n",
       "      <td>38382.964807</td>\n",
       "      <td>0</td>\n",
       "      <td>15860.427475</td>\n",
       "      <td>0.000000</td>\n",
       "      <td>0</td>\n",
       "      <td>6.581925e+05</td>\n",
       "      <td>725.266667</td>\n",
       "      <td>10532.00</td>\n",
       "      <td>6.476297e+05</td>\n",
       "      <td>649.700000</td>\n",
       "      <td>10790.00</td>\n",
       "      <td>0</td>\n",
       "    </tr>\n",
       "    <tr>\n",
       "      <th>...</th>\n",
       "      <td>...</td>\n",
       "      <td>...</td>\n",
       "      <td>...</td>\n",
       "      <td>...</td>\n",
       "      <td>...</td>\n",
       "      <td>...</td>\n",
       "      <td>...</td>\n",
       "      <td>...</td>\n",
       "      <td>...</td>\n",
       "      <td>...</td>\n",
       "      <td>...</td>\n",
       "      <td>...</td>\n",
       "      <td>...</td>\n",
       "      <td>...</td>\n",
       "      <td>...</td>\n",
       "      <td>...</td>\n",
       "      <td>...</td>\n",
       "      <td>...</td>\n",
       "      <td>...</td>\n",
       "      <td>...</td>\n",
       "    </tr>\n",
       "    <tr>\n",
       "      <th>64275641</th>\n",
       "      <td>1</td>\n",
       "      <td>5</td>\n",
       "      <td>0</td>\n",
       "      <td>1.0</td>\n",
       "      <td>0.0</td>\n",
       "      <td>0.0</td>\n",
       "      <td>0</td>\n",
       "      <td>0.0</td>\n",
       "      <td>11340.806749</td>\n",
       "      <td>0</td>\n",
       "      <td>0.000000</td>\n",
       "      <td>0.000000</td>\n",
       "      <td>0</td>\n",
       "      <td>4.587476e+06</td>\n",
       "      <td>395.516667</td>\n",
       "      <td>11900.00</td>\n",
       "      <td>2.701206e+06</td>\n",
       "      <td>234.816667</td>\n",
       "      <td>10097.90</td>\n",
       "      <td>1</td>\n",
       "    </tr>\n",
       "    <tr>\n",
       "      <th>54819701</th>\n",
       "      <td>0</td>\n",
       "      <td>7</td>\n",
       "      <td>0</td>\n",
       "      <td>1.0</td>\n",
       "      <td>0.0</td>\n",
       "      <td>1.0</td>\n",
       "      <td>0</td>\n",
       "      <td>0.0</td>\n",
       "      <td>30002.059182</td>\n",
       "      <td>0</td>\n",
       "      <td>30870.656802</td>\n",
       "      <td>0.000000</td>\n",
       "      <td>0</td>\n",
       "      <td>0.000000e+00</td>\n",
       "      <td>0.000000</td>\n",
       "      <td>0.00</td>\n",
       "      <td>0.000000e+00</td>\n",
       "      <td>0.000000</td>\n",
       "      <td>0.00</td>\n",
       "      <td>1</td>\n",
       "    </tr>\n",
       "    <tr>\n",
       "      <th>66286488</th>\n",
       "      <td>0</td>\n",
       "      <td>3</td>\n",
       "      <td>0</td>\n",
       "      <td>1.0</td>\n",
       "      <td>0.0</td>\n",
       "      <td>1.0</td>\n",
       "      <td>1</td>\n",
       "      <td>0.0</td>\n",
       "      <td>44.280056</td>\n",
       "      <td>0</td>\n",
       "      <td>3442.848120</td>\n",
       "      <td>6198.347107</td>\n",
       "      <td>0</td>\n",
       "      <td>7.385490e+06</td>\n",
       "      <td>1549.866667</td>\n",
       "      <td>18996.00</td>\n",
       "      <td>1.690091e+07</td>\n",
       "      <td>1812.000000</td>\n",
       "      <td>18700.00</td>\n",
       "      <td>1</td>\n",
       "    </tr>\n",
       "    <tr>\n",
       "      <th>69586007</th>\n",
       "      <td>0</td>\n",
       "      <td>4</td>\n",
       "      <td>0</td>\n",
       "      <td>1.0</td>\n",
       "      <td>0.0</td>\n",
       "      <td>1.0</td>\n",
       "      <td>0</td>\n",
       "      <td>0.0</td>\n",
       "      <td>0.106719</td>\n",
       "      <td>0</td>\n",
       "      <td>0.455648</td>\n",
       "      <td>0.000000</td>\n",
       "      <td>0</td>\n",
       "      <td>7.624795e+05</td>\n",
       "      <td>0.000000</td>\n",
       "      <td>522.66</td>\n",
       "      <td>1.628163e+06</td>\n",
       "      <td>1.766667</td>\n",
       "      <td>2527.85</td>\n",
       "      <td>1</td>\n",
       "    </tr>\n",
       "    <tr>\n",
       "      <th>68518579</th>\n",
       "      <td>0</td>\n",
       "      <td>3</td>\n",
       "      <td>0</td>\n",
       "      <td>1.0</td>\n",
       "      <td>0.0</td>\n",
       "      <td>0.0</td>\n",
       "      <td>0</td>\n",
       "      <td>0.0</td>\n",
       "      <td>0.153250</td>\n",
       "      <td>0</td>\n",
       "      <td>0.000000</td>\n",
       "      <td>0.000000</td>\n",
       "      <td>0</td>\n",
       "      <td>0.000000e+00</td>\n",
       "      <td>0.000000</td>\n",
       "      <td>0.00</td>\n",
       "      <td>0.000000e+00</td>\n",
       "      <td>0.000000</td>\n",
       "      <td>0.00</td>\n",
       "      <td>1</td>\n",
       "    </tr>\n",
       "  </tbody>\n",
       "</table>\n",
       "<p>6262 rows × 20 columns</p>\n",
       "</div>"
      ],
      "text/plain": [
       "          AUTRE_ABONNEMENT  ANCIENNETE  STATUT_RC_M1  STATUT_TRAFIC_M1  \\\n",
       "ID                                                                       \n",
       "50588394                 1           6             0               1.0   \n",
       "60611415                 0           2             0               1.0   \n",
       "69970095                 0           4             0               1.0   \n",
       "74940370                 0           1             0              -1.0   \n",
       "69900363                 0           4             1               1.0   \n",
       "...                    ...         ...           ...               ...   \n",
       "64275641                 1           5             0               1.0   \n",
       "54819701                 0           7             0               1.0   \n",
       "66286488                 0           3             0               1.0   \n",
       "69586007                 0           4             0               1.0   \n",
       "68518579                 0           3             0               1.0   \n",
       "\n",
       "          STATUT_FACT_M1  STATUT_TRAFIC_M2  STATUT_RC_M2  STATUT_FACT_M2  \\\n",
       "ID                                                                         \n",
       "50588394             0.0               1.0             0             0.0   \n",
       "60611415             0.0               1.0             0             0.0   \n",
       "69970095             0.0               1.0             0             0.0   \n",
       "74940370            -1.0              -1.0             0            -1.0   \n",
       "69900363             0.0               1.0             0             0.0   \n",
       "...                  ...               ...           ...             ...   \n",
       "64275641             0.0               0.0             0             0.0   \n",
       "54819701             0.0               1.0             0             0.0   \n",
       "66286488             0.0               1.0             1             0.0   \n",
       "69586007             0.0               1.0             0             0.0   \n",
       "68518579             0.0               0.0             0             0.0   \n",
       "\n",
       "           VOL_DATA_M1  MONTANT_FACT_HT_M1   VOL_DATA_M2  MONTANT_OM_HT_M2  \\\n",
       "ID                                                                           \n",
       "50588394     13.430252                   0      4.864058          0.000000   \n",
       "60611415  17958.360283                   0      2.323441          0.000000   \n",
       "69970095      3.677383                   0      6.005781          0.000000   \n",
       "74940370      0.000000                   0      0.000000          0.000000   \n",
       "69900363  38382.964807                   0  15860.427475          0.000000   \n",
       "...                ...                 ...           ...               ...   \n",
       "64275641  11340.806749                   0      0.000000          0.000000   \n",
       "54819701  30002.059182                   0  30870.656802          0.000000   \n",
       "66286488     44.280056                   0   3442.848120       6198.347107   \n",
       "69586007      0.106719                   0      0.455648          0.000000   \n",
       "68518579      0.153250                   0      0.000000          0.000000   \n",
       "\n",
       "          MONTANT_FACT_HT_M2  VOL_TOT_DATA_KO_M1  VOL_TOT_VOIX_M1  CONSO_M1  \\\n",
       "ID                                                                            \n",
       "50588394                   0        1.265780e+07      2875.733333  28501.03   \n",
       "60611415                   0        0.000000e+00        99.033333   2150.00   \n",
       "69970095                   0        4.296979e+06       843.066667  12407.00   \n",
       "74940370                   0        1.861370e+06        82.983333   5232.00   \n",
       "69900363                   0        6.581925e+05       725.266667  10532.00   \n",
       "...                      ...                 ...              ...       ...   \n",
       "64275641                   0        4.587476e+06       395.516667  11900.00   \n",
       "54819701                   0        0.000000e+00         0.000000      0.00   \n",
       "66286488                   0        7.385490e+06      1549.866667  18996.00   \n",
       "69586007                   0        7.624795e+05         0.000000    522.66   \n",
       "68518579                   0        0.000000e+00         0.000000      0.00   \n",
       "\n",
       "          VOL_TOT_DATA_KO_M2  VOL_TOT_VOIX_M2  CONSO_M2  CHURN  \n",
       "ID                                                              \n",
       "50588394        4.259225e+06      3173.916667  30399.05      0  \n",
       "60611415        0.000000e+00        97.883333   2650.85      0  \n",
       "69970095        5.590349e+06      1622.366667  18900.98      0  \n",
       "74940370        5.869998e+06        10.216667   7226.00      0  \n",
       "69900363        6.476297e+05       649.700000  10790.00      0  \n",
       "...                      ...              ...       ...    ...  \n",
       "64275641        2.701206e+06       234.816667  10097.90      1  \n",
       "54819701        0.000000e+00         0.000000      0.00      1  \n",
       "66286488        1.690091e+07      1812.000000  18700.00      1  \n",
       "69586007        1.628163e+06         1.766667   2527.85      1  \n",
       "68518579        0.000000e+00         0.000000      0.00      1  \n",
       "\n",
       "[6262 rows x 20 columns]"
      ]
     },
     "execution_count": 45,
     "metadata": {},
     "output_type": "execute_result"
    }
   ],
   "source": [
    "X2 = X_train\n",
    "X2['CHURN'] = y_train.values\n",
    "\n",
    "minority = X2[X2.CHURN == 1]\n",
    "majority = X2[X2.CHURN == 0]\n",
    "\n",
    "minority_upsampled = resample(minority, replace=True, n_samples = len(majority), random_state = seed)\n",
    "\n",
    "upsampled = pd.concat([majority, minority_upsampled])\n",
    "\n",
    "upsampled"
   ]
  },
  {
   "cell_type": "code",
   "execution_count": 46,
   "metadata": {},
   "outputs": [
    {
     "data": {
      "text/plain": [
       "1    0.5\n",
       "0    0.5\n",
       "Name: CHURN, dtype: float64"
      ]
     },
     "execution_count": 46,
     "metadata": {},
     "output_type": "execute_result"
    }
   ],
   "source": [
    "# Vérification de la districution de la variable \"CHURN\"\n",
    "upsampled['CHURN'].value_counts(normalize = True)"
   ]
  },
  {
   "cell_type": "code",
   "execution_count": 47,
   "metadata": {},
   "outputs": [],
   "source": [
    "X_train_up = upsampled.drop('CHURN', axis=1)\n",
    "y_train_up = upsampled['CHURN']"
   ]
  },
  {
   "cell_type": "markdown",
   "metadata": {},
   "source": [
    "### Choix du dataset pour continuer le modèle"
   ]
  },
  {
   "cell_type": "code",
   "execution_count": 48,
   "metadata": {},
   "outputs": [],
   "source": [
    "train_features = X_train_up\n",
    "train_labels = y_train_up"
   ]
  },
  {
   "cell_type": "code",
   "execution_count": 49,
   "metadata": {},
   "outputs": [
    {
     "name": "stdout",
     "output_type": "stream",
     "text": [
      "AUTRE_ABONNEMENT        int64\n",
      "ANCIENNETE              int64\n",
      "STATUT_RC_M1            int64\n",
      "STATUT_TRAFIC_M1      float64\n",
      "STATUT_FACT_M1        float64\n",
      "STATUT_TRAFIC_M2      float64\n",
      "STATUT_RC_M2            int64\n",
      "STATUT_FACT_M2        float64\n",
      "VOL_DATA_M1           float64\n",
      "MONTANT_FACT_HT_M1      int64\n",
      "VOL_DATA_M2           float64\n",
      "MONTANT_OM_HT_M2      float64\n",
      "MONTANT_FACT_HT_M2      int64\n",
      "VOL_TOT_DATA_KO_M1    float64\n",
      "VOL_TOT_VOIX_M1       float64\n",
      "CONSO_M1              float64\n",
      "VOL_TOT_DATA_KO_M2    float64\n",
      "VOL_TOT_VOIX_M2       float64\n",
      "CONSO_M2              float64\n",
      "dtype: object\n"
     ]
    }
   ],
   "source": [
    "print(train_features.dtypes)"
   ]
  },
  {
   "cell_type": "code",
   "execution_count": 50,
   "metadata": {},
   "outputs": [
    {
     "name": "stdout",
     "output_type": "stream",
     "text": [
      "AUTRE_ABONNEMENT       object\n",
      "ANCIENNETE             object\n",
      "STATUT_RC_M1           object\n",
      "STATUT_TRAFIC_M1       object\n",
      "STATUT_FACT_M1         object\n",
      "STATUT_TRAFIC_M2       object\n",
      "STATUT_RC_M2           object\n",
      "STATUT_FACT_M2         object\n",
      "VOL_DATA_M1           float64\n",
      "MONTANT_FACT_HT_M1      int64\n",
      "VOL_DATA_M2           float64\n",
      "MONTANT_OM_HT_M2      float64\n",
      "MONTANT_FACT_HT_M2      int64\n",
      "VOL_TOT_DATA_KO_M1    float64\n",
      "VOL_TOT_VOIX_M1       float64\n",
      "CONSO_M1              float64\n",
      "VOL_TOT_DATA_KO_M2    float64\n",
      "VOL_TOT_VOIX_M2       float64\n",
      "CONSO_M2              float64\n",
      "dtype: object\n"
     ]
    }
   ],
   "source": [
    "# Convertion des colonnes en catégorie\n",
    "cat_cols = ['AUTRE_ABONNEMENT', 'ANCIENNETE', 'STATUT_RC_M1', 'STATUT_RC_M2', 'STATUT_TRAFIC_M1', 'STATUT_TRAFIC_M2',  'STATUT_FACT_M1', 'STATUT_FACT_M2']\n",
    "train_features[cat_cols] = train_features[cat_cols].astype('str')\n",
    "\n",
    "# Vérification du nouveau type de données\n",
    "print(train_features.dtypes)"
   ]
  },
  {
   "cell_type": "markdown",
   "metadata": {},
   "source": [
    "# Normalisation des données"
   ]
  },
  {
   "cell_type": "code",
   "execution_count": 51,
   "metadata": {},
   "outputs": [],
   "source": [
    "# Sélectionner les variables numériques\n",
    "num_cols = train_features.select_dtypes(include=['int', 'float']).columns.tolist()\n",
    "\n",
    "# Instanciation de l'objet\n",
    "scaler = preprocessing.MinMaxScaler()\n",
    "\n",
    "# Entrainement\n",
    "mod_scaler = scaler.fit(train_features[num_cols])\n",
    "\n",
    "# Application à l'ensemble des échantillons\n",
    "train_features[num_cols] = mod_scaler.transform(train_features[num_cols])\n",
    "X_val[num_cols] = mod_scaler.transform(X_val[num_cols])\n",
    "X_test[num_cols] = mod_scaler.transform(X_test[num_cols])"
   ]
  },
  {
   "cell_type": "code",
   "execution_count": 52,
   "metadata": {},
   "outputs": [],
   "source": [
    "# Remise des données dans un dataFrame\n",
    "train_features = pd.DataFrame(train_features, columns = X.columns)\n",
    "X_val = pd.DataFrame(X_val, columns = X.columns)\n",
    "X_test = pd.DataFrame(X_test, columns = X.columns)"
   ]
  },
  {
   "cell_type": "code",
   "execution_count": 53,
   "metadata": {},
   "outputs": [
    {
     "name": "stdout",
     "output_type": "stream",
     "text": [
      "<class 'pandas.core.frame.DataFrame'>\n",
      "Int64Index: 6262 entries, 50588394 to 68518579\n",
      "Data columns (total 19 columns):\n",
      " #   Column              Non-Null Count  Dtype  \n",
      "---  ------              --------------  -----  \n",
      " 0   AUTRE_ABONNEMENT    6262 non-null   object \n",
      " 1   ANCIENNETE          6262 non-null   object \n",
      " 2   STATUT_RC_M1        6262 non-null   object \n",
      " 3   STATUT_TRAFIC_M1    6262 non-null   object \n",
      " 4   STATUT_FACT_M1      6262 non-null   object \n",
      " 5   STATUT_TRAFIC_M2    6262 non-null   object \n",
      " 6   STATUT_RC_M2        6262 non-null   object \n",
      " 7   STATUT_FACT_M2      6262 non-null   object \n",
      " 8   VOL_DATA_M1         6262 non-null   float64\n",
      " 9   MONTANT_FACT_HT_M1  6262 non-null   int64  \n",
      " 10  VOL_DATA_M2         6262 non-null   float64\n",
      " 11  MONTANT_OM_HT_M2    6262 non-null   float64\n",
      " 12  MONTANT_FACT_HT_M2  6262 non-null   int64  \n",
      " 13  VOL_TOT_DATA_KO_M1  6262 non-null   float64\n",
      " 14  VOL_TOT_VOIX_M1     6262 non-null   float64\n",
      " 15  CONSO_M1            6262 non-null   float64\n",
      " 16  VOL_TOT_DATA_KO_M2  6262 non-null   float64\n",
      " 17  VOL_TOT_VOIX_M2     6262 non-null   float64\n",
      " 18  CONSO_M2            6262 non-null   float64\n",
      "dtypes: float64(9), int64(2), object(8)\n",
      "memory usage: 978.4+ KB\n"
     ]
    }
   ],
   "source": [
    "train_features.info()"
   ]
  },
  {
   "cell_type": "code",
   "execution_count": 54,
   "metadata": {},
   "outputs": [
    {
     "data": {
      "text/html": [
       "<div>\n",
       "<style scoped>\n",
       "    .dataframe tbody tr th:only-of-type {\n",
       "        vertical-align: middle;\n",
       "    }\n",
       "\n",
       "    .dataframe tbody tr th {\n",
       "        vertical-align: top;\n",
       "    }\n",
       "\n",
       "    .dataframe thead th {\n",
       "        text-align: right;\n",
       "    }\n",
       "</style>\n",
       "<table border=\"1\" class=\"dataframe\">\n",
       "  <thead>\n",
       "    <tr style=\"text-align: right;\">\n",
       "      <th></th>\n",
       "      <th>AUTRE_ABONNEMENT</th>\n",
       "      <th>ANCIENNETE</th>\n",
       "      <th>STATUT_RC_M1</th>\n",
       "      <th>STATUT_TRAFIC_M1</th>\n",
       "      <th>STATUT_FACT_M1</th>\n",
       "      <th>STATUT_TRAFIC_M2</th>\n",
       "      <th>STATUT_RC_M2</th>\n",
       "      <th>STATUT_FACT_M2</th>\n",
       "      <th>VOL_DATA_M1</th>\n",
       "      <th>MONTANT_FACT_HT_M1</th>\n",
       "      <th>VOL_DATA_M2</th>\n",
       "      <th>MONTANT_OM_HT_M2</th>\n",
       "      <th>MONTANT_FACT_HT_M2</th>\n",
       "      <th>VOL_TOT_DATA_KO_M1</th>\n",
       "      <th>VOL_TOT_VOIX_M1</th>\n",
       "      <th>CONSO_M1</th>\n",
       "      <th>VOL_TOT_DATA_KO_M2</th>\n",
       "      <th>VOL_TOT_VOIX_M2</th>\n",
       "      <th>CONSO_M2</th>\n",
       "    </tr>\n",
       "    <tr>\n",
       "      <th>ID</th>\n",
       "      <th></th>\n",
       "      <th></th>\n",
       "      <th></th>\n",
       "      <th></th>\n",
       "      <th></th>\n",
       "      <th></th>\n",
       "      <th></th>\n",
       "      <th></th>\n",
       "      <th></th>\n",
       "      <th></th>\n",
       "      <th></th>\n",
       "      <th></th>\n",
       "      <th></th>\n",
       "      <th></th>\n",
       "      <th></th>\n",
       "      <th></th>\n",
       "      <th></th>\n",
       "      <th></th>\n",
       "      <th></th>\n",
       "    </tr>\n",
       "  </thead>\n",
       "  <tbody>\n",
       "    <tr>\n",
       "      <th>50588394</th>\n",
       "      <td>1</td>\n",
       "      <td>6</td>\n",
       "      <td>0</td>\n",
       "      <td>1.0</td>\n",
       "      <td>0.0</td>\n",
       "      <td>1.0</td>\n",
       "      <td>0</td>\n",
       "      <td>0.0</td>\n",
       "      <td>0.000038</td>\n",
       "      <td>0</td>\n",
       "      <td>0.000017</td>\n",
       "      <td>0.0</td>\n",
       "      <td>0</td>\n",
       "      <td>0.066461</td>\n",
       "      <td>0.415381</td>\n",
       "      <td>0.150376</td>\n",
       "      <td>0.027765</td>\n",
       "      <td>0.240579</td>\n",
       "      <td>0.207810</td>\n",
       "    </tr>\n",
       "    <tr>\n",
       "      <th>60611415</th>\n",
       "      <td>0</td>\n",
       "      <td>2</td>\n",
       "      <td>0</td>\n",
       "      <td>1.0</td>\n",
       "      <td>0.0</td>\n",
       "      <td>1.0</td>\n",
       "      <td>0</td>\n",
       "      <td>0.0</td>\n",
       "      <td>0.050187</td>\n",
       "      <td>0</td>\n",
       "      <td>0.000008</td>\n",
       "      <td>0.0</td>\n",
       "      <td>0</td>\n",
       "      <td>0.000000</td>\n",
       "      <td>0.014305</td>\n",
       "      <td>0.011344</td>\n",
       "      <td>0.000000</td>\n",
       "      <td>0.007419</td>\n",
       "      <td>0.018121</td>\n",
       "    </tr>\n",
       "    <tr>\n",
       "      <th>69970095</th>\n",
       "      <td>0</td>\n",
       "      <td>4</td>\n",
       "      <td>0</td>\n",
       "      <td>1.0</td>\n",
       "      <td>0.0</td>\n",
       "      <td>1.0</td>\n",
       "      <td>0</td>\n",
       "      <td>0.0</td>\n",
       "      <td>0.000010</td>\n",
       "      <td>0</td>\n",
       "      <td>0.000020</td>\n",
       "      <td>0.0</td>\n",
       "      <td>0</td>\n",
       "      <td>0.022562</td>\n",
       "      <td>0.121776</td>\n",
       "      <td>0.065462</td>\n",
       "      <td>0.036442</td>\n",
       "      <td>0.122973</td>\n",
       "      <td>0.129208</td>\n",
       "    </tr>\n",
       "    <tr>\n",
       "      <th>74940370</th>\n",
       "      <td>0</td>\n",
       "      <td>1</td>\n",
       "      <td>0</td>\n",
       "      <td>-1.0</td>\n",
       "      <td>-1.0</td>\n",
       "      <td>-1.0</td>\n",
       "      <td>0</td>\n",
       "      <td>-1.0</td>\n",
       "      <td>0.000000</td>\n",
       "      <td>0</td>\n",
       "      <td>0.000000</td>\n",
       "      <td>0.0</td>\n",
       "      <td>0</td>\n",
       "      <td>0.009773</td>\n",
       "      <td>0.011986</td>\n",
       "      <td>0.027605</td>\n",
       "      <td>0.038265</td>\n",
       "      <td>0.000774</td>\n",
       "      <td>0.049397</td>\n",
       "    </tr>\n",
       "    <tr>\n",
       "      <th>69900363</th>\n",
       "      <td>0</td>\n",
       "      <td>4</td>\n",
       "      <td>1</td>\n",
       "      <td>1.0</td>\n",
       "      <td>0.0</td>\n",
       "      <td>1.0</td>\n",
       "      <td>0</td>\n",
       "      <td>0.0</td>\n",
       "      <td>0.107266</td>\n",
       "      <td>0</td>\n",
       "      <td>0.054050</td>\n",
       "      <td>0.0</td>\n",
       "      <td>0</td>\n",
       "      <td>0.003456</td>\n",
       "      <td>0.104760</td>\n",
       "      <td>0.055569</td>\n",
       "      <td>0.004222</td>\n",
       "      <td>0.049246</td>\n",
       "      <td>0.073761</td>\n",
       "    </tr>\n",
       "  </tbody>\n",
       "</table>\n",
       "</div>"
      ],
      "text/plain": [
       "         AUTRE_ABONNEMENT ANCIENNETE STATUT_RC_M1 STATUT_TRAFIC_M1  \\\n",
       "ID                                                                   \n",
       "50588394                1          6            0              1.0   \n",
       "60611415                0          2            0              1.0   \n",
       "69970095                0          4            0              1.0   \n",
       "74940370                0          1            0             -1.0   \n",
       "69900363                0          4            1              1.0   \n",
       "\n",
       "         STATUT_FACT_M1 STATUT_TRAFIC_M2 STATUT_RC_M2 STATUT_FACT_M2  \\\n",
       "ID                                                                     \n",
       "50588394            0.0              1.0            0            0.0   \n",
       "60611415            0.0              1.0            0            0.0   \n",
       "69970095            0.0              1.0            0            0.0   \n",
       "74940370           -1.0             -1.0            0           -1.0   \n",
       "69900363            0.0              1.0            0            0.0   \n",
       "\n",
       "          VOL_DATA_M1  MONTANT_FACT_HT_M1  VOL_DATA_M2  MONTANT_OM_HT_M2  \\\n",
       "ID                                                                         \n",
       "50588394     0.000038                   0     0.000017               0.0   \n",
       "60611415     0.050187                   0     0.000008               0.0   \n",
       "69970095     0.000010                   0     0.000020               0.0   \n",
       "74940370     0.000000                   0     0.000000               0.0   \n",
       "69900363     0.107266                   0     0.054050               0.0   \n",
       "\n",
       "          MONTANT_FACT_HT_M2  VOL_TOT_DATA_KO_M1  VOL_TOT_VOIX_M1  CONSO_M1  \\\n",
       "ID                                                                            \n",
       "50588394                   0            0.066461         0.415381  0.150376   \n",
       "60611415                   0            0.000000         0.014305  0.011344   \n",
       "69970095                   0            0.022562         0.121776  0.065462   \n",
       "74940370                   0            0.009773         0.011986  0.027605   \n",
       "69900363                   0            0.003456         0.104760  0.055569   \n",
       "\n",
       "          VOL_TOT_DATA_KO_M2  VOL_TOT_VOIX_M2  CONSO_M2  \n",
       "ID                                                       \n",
       "50588394            0.027765         0.240579  0.207810  \n",
       "60611415            0.000000         0.007419  0.018121  \n",
       "69970095            0.036442         0.122973  0.129208  \n",
       "74940370            0.038265         0.000774  0.049397  \n",
       "69900363            0.004222         0.049246  0.073761  "
      ]
     },
     "execution_count": 54,
     "metadata": {},
     "output_type": "execute_result"
    }
   ],
   "source": [
    "train_features.head()"
   ]
  },
  {
   "cell_type": "markdown",
   "metadata": {},
   "source": [
    "# Modelisation"
   ]
  },
  {
   "cell_type": "markdown",
   "metadata": {},
   "source": [
    "## Sélection des variables"
   ]
  },
  {
   "cell_type": "markdown",
   "metadata": {},
   "source": [
    "Nous choisissons le F1 score pour choisir les meilleures variables prédictrices"
   ]
  },
  {
   "cell_type": "code",
   "execution_count": 56,
   "metadata": {},
   "outputs": [
    {
     "name": "stdout",
     "output_type": "stream",
     "text": [
      "              precision    recall  f1-score   support\n",
      "\n",
      "           0       0.92      0.95      0.93       671\n",
      "           1       0.40      0.27      0.32        79\n",
      "\n",
      "    accuracy                           0.88       750\n",
      "   macro avg       0.66      0.61      0.63       750\n",
      "weighted avg       0.86      0.88      0.87       750\n",
      "\n"
     ]
    }
   ],
   "source": [
    "rf = RandomForestClassifier()\n",
    "rf.fit(train_features, train_labels)\n",
    "print(classification_report(y_val, rf.predict(X_val)))"
   ]
  },
  {
   "cell_type": "markdown",
   "metadata": {},
   "source": [
    "### Importance des variables"
   ]
  },
  {
   "cell_type": "code",
   "execution_count": 57,
   "metadata": {},
   "outputs": [
    {
     "data": {
      "image/png": "[encoded data removed]",
      "text/plain": [
       "<Figure size 432x288 with 1 Axes>"
      ]
     },
     "metadata": {
      "needs_background": "light"
     },
     "output_type": "display_data"
    }
   ],
   "source": [
    "vars_imp = (pd.Series(rf.feature_importances_, index = train_features.columns).sort_values(ascending = False))\n",
    "sns.barplot(x = vars_imp.index, y = vars_imp)\n",
    "plt.xticks(rotation = 90)\n",
    "plt.xlabel(\"Variables\")\n",
    "plt.ylabel(\"Score d'importance de la variable\")\n",
    "plt.title(\"Importance des variables prédictrices\")\n",
    "plt.show()"
   ]
  },
  {
   "cell_type": "code",
   "execution_count": 58,
   "metadata": {},
   "outputs": [
    {
     "data": {
      "text/plain": [
       "VOL_DATA_M1           0.200223\n",
       "VOL_DATA_M2           0.117049\n",
       "STATUT_TRAFIC_M1      0.086622\n",
       "VOL_TOT_VOIX_M2       0.069462\n",
       "VOL_TOT_VOIX_M1       0.069094\n",
       "CONSO_M1              0.065560\n",
       "CONSO_M2              0.065277\n",
       "VOL_TOT_DATA_KO_M1    0.061545\n",
       "VOL_TOT_DATA_KO_M2    0.057979\n",
       "ANCIENNETE            0.050856\n",
       "STATUT_TRAFIC_M2      0.041283\n",
       "STATUT_FACT_M2        0.030083\n",
       "STATUT_RC_M1          0.020903\n",
       "STATUT_FACT_M1        0.019321\n",
       "STATUT_RC_M2          0.014823\n",
       "MONTANT_OM_HT_M2      0.013695\n",
       "AUTRE_ABONNEMENT      0.013280\n",
       "MONTANT_FACT_HT_M1    0.002162\n",
       "MONTANT_FACT_HT_M2    0.000785\n",
       "dtype: float64"
      ]
     },
     "execution_count": 58,
     "metadata": {},
     "output_type": "execute_result"
    }
   ],
   "source": [
    "vars_imp"
   ]
  },
  {
   "cell_type": "code",
   "execution_count": 59,
   "metadata": {},
   "outputs": [
    {
     "name": "stdout",
     "output_type": "stream",
     "text": [
      "Nous avons sélectionné 17 variables qui sont : ['VOL_DATA_M1', 'VOL_DATA_M2', 'STATUT_TRAFIC_M1', 'VOL_TOT_VOIX_M2', 'VOL_TOT_VOIX_M1', 'CONSO_M1', 'CONSO_M2', 'VOL_TOT_DATA_KO_M1', 'VOL_TOT_DATA_KO_M2', 'ANCIENNETE', 'STATUT_TRAFIC_M2', 'STATUT_FACT_M2', 'STATUT_RC_M1', 'STATUT_FACT_M1', 'STATUT_RC_M2', 'MONTANT_OM_HT_M2', 'AUTRE_ABONNEMENT']\n"
     ]
    }
   ],
   "source": [
    "seuil = 0.004\n",
    "vars_selected = vars_imp[vars_imp > seuil].index.to_list()\n",
    "print(\"Nous avons sélectionné\", len(vars_selected), \"variables qui sont :\", vars_selected)"
   ]
  },
  {
   "cell_type": "code",
   "execution_count": 60,
   "metadata": {},
   "outputs": [],
   "source": [
    "train_features = train_features[vars_selected]\n",
    "X_val = X_val[vars_selected]\n",
    "X_test = X_test[vars_selected]"
   ]
  },
  {
   "cell_type": "markdown",
   "metadata": {},
   "source": [
    "Pour la modélisation, on partira des modèles les plus siples aux plus complexes.\n",
    "En effet, malgré la robustesse des méthodes complexes de modélisations (ex : méthodes ensemblistes), elles sont peu utilisées car elles sont difficilement interprétables et explicables aux métiers.\n",
    "Les méthodes que nous étudierons sont : \n",
    "- Régression Logistique, Random Forest, Decision Tree Classifier\n",
    "- Méthode à noyau : SVM\n",
    "- Réseau de neurones : MLPClassifier\n",
    "- Méthodes ensemblistes : Gradient Boosting\n",
    "\n",
    "Pour fixer les paramètres, nous utilisons une méthode de cross-validation avec un GridsearchCV qui utilisera la métrique de notre choix afin de valider le modèle.\n",
    "\n",
    "**Métriques d'évaluation**\n",
    "\n",
    "- Accuracy\n",
    "\n",
    "- Précision"
   ]
  },
  {
   "cell_type": "markdown",
   "metadata": {},
   "source": [
    "## Modèle de regression logistique"
   ]
  },
  {
   "cell_type": "code",
   "execution_count": 61,
   "metadata": {},
   "outputs": [
    {
     "name": "stdout",
     "output_type": "stream",
     "text": [
      "Accuracy sur l'ensemble d'entrainement ----> 0.703\n",
      "Les paramètres choisis pour le modèle  ----> LogisticRegression(C=1, class_weight=None, dual=False, fit_intercept=True,\n",
      "                   intercept_scaling=1, l1_ratio=None, max_iter=500,\n",
      "                   multi_class='auto', n_jobs=None, penalty='l2',\n",
      "                   random_state=42, solver='lbfgs', tol=0.0001, verbose=0,\n",
      "                   warm_start=False)\n"
     ]
    }
   ],
   "source": [
    "# Paramètres\n",
    "param = {'C': [0.001, 0.01, 1, 10, 50, 100, 500]}\n",
    "\n",
    "# GridsearchCV\n",
    "grid_logreg_class = GridSearchCV(estimator = LogisticRegression(random_state = seed, max_iter = 500), #estimateur\n",
    "                                 param_grid = param, # Grille de paramètres\n",
    "                                 scoring=\"accuracy\", #métrique d'évaluation \n",
    "                                 cv=5 #Nombre de cross-validation\n",
    "                                )\n",
    "\n",
    "# Entrainement du modèle\n",
    "logreg_model = grid_logreg_class.fit(train_features, train_labels)\n",
    "\n",
    "# Métrique du modèle d'entrainement et paramètres\n",
    "print(\"Accuracy sur l'ensemble d'entrainement ---->\", round(logreg_model.best_score_,3))\n",
    "print(\"Les paramètres choisis pour le modèle  ---->\", logreg_model.best_estimator_)"
   ]
  },
  {
   "cell_type": "markdown",
   "metadata": {},
   "source": [
    "### Fonction d'évaluation"
   ]
  },
  {
   "cell_type": "code",
   "execution_count": 62,
   "metadata": {},
   "outputs": [],
   "source": [
    "def model_evaluation(model, features, labels, threshold=0.5):\n",
    "    # Obtenir les probabilités de chaque classe pour chaque exemple\n",
    "    probs = model.predict_proba(features)\n",
    "\n",
    "    # Convertir les probabilités en prédictions de classe binaire en fonction du seuil de décision\n",
    "    pred = (probs[:, 1] >= threshold).astype(int)\n",
    "\n",
    "    # Calculer les métriques d'évaluation et afficher les résultats\n",
    "    print(\"\\n-- Métriques d'évaluation --\")\n",
    "    print(classification_report(labels, pred))"
   ]
  },
  {
   "cell_type": "code",
   "execution_count": 63,
   "metadata": {},
   "outputs": [
    {
     "name": "stdout",
     "output_type": "stream",
     "text": [
      "\n",
      "-- Métriques d'évaluation --\n",
      "              precision    recall  f1-score   support\n",
      "\n",
      "           0       0.91      0.97      0.94       671\n",
      "           1       0.34      0.14      0.20        79\n",
      "\n",
      "    accuracy                           0.88       750\n",
      "   macro avg       0.62      0.55      0.57       750\n",
      "weighted avg       0.85      0.88      0.86       750\n",
      "\n"
     ]
    }
   ],
   "source": [
    "# Utilisation de la fonction avec un seuil de prédiction de 0.8\n",
    "model_evaluation(logreg_model, X_test, y_test, threshold=0.8)"
   ]
  },
  {
   "cell_type": "markdown",
   "metadata": {},
   "source": [
    "## Modèle de Random Forest"
   ]
  },
  {
   "cell_type": "code",
   "execution_count": 64,
   "metadata": {},
   "outputs": [
    {
     "name": "stdout",
     "output_type": "stream",
     "text": [
      "Accuracy sur l'ensemble d'entrainement ----> 0.974\n",
      "Les paramètres choisis pour le modèle  ----> RandomForestClassifier(bootstrap=True, ccp_alpha=0.0, class_weight=None,\n",
      "                       criterion='gini', max_depth=None, max_features='auto',\n",
      "                       max_leaf_nodes=None, max_samples=None,\n",
      "                       min_impurity_decrease=0.0, min_impurity_split=None,\n",
      "                       min_samples_leaf=1, min_samples_split=2,\n",
      "                       min_weight_fraction_leaf=0.0, n_estimators=500,\n",
      "                       n_jobs=None, oob_score=False, random_state=42, verbose=0,\n",
      "                       warm_start=False)\n"
     ]
    }
   ],
   "source": [
    "# Paramètres\n",
    "param_rf = {'n_estimators': [10, 50, 100, 500, 1000], 'max_depth': [3, 5, 10, 20, None]}\n",
    "\n",
    "#GridsearchCV\n",
    "grid_rf_class = GridSearchCV(estimator = RandomForestClassifier(random_state = seed), \n",
    "                            param_grid = param_rf, scoring=\"accuracy\",cv=5)\n",
    "\n",
    "#Entrainement du modèle\n",
    "rf_model = grid_rf_class.fit(train_features, train_labels)\n",
    "\n",
    "# Métrique du modèle d'entrainement et paramètres\n",
    "print(\"Accuracy sur l'ensemble d'entrainement ---->\", round(rf_model.best_score_,3))\n",
    "print(\"Les paramètres choisis pour le modèle  ---->\", rf_model.best_estimator_)"
   ]
  },
  {
   "cell_type": "code",
   "execution_count": 65,
   "metadata": {},
   "outputs": [
    {
     "name": "stdout",
     "output_type": "stream",
     "text": [
      "\n",
      "-- Métriques d'évaluation --\n",
      "              precision    recall  f1-score   support\n",
      "\n",
      "           0       0.90      0.99      0.95       671\n",
      "           1       0.60      0.08      0.13        79\n",
      "\n",
      "    accuracy                           0.90       750\n",
      "   macro avg       0.75      0.53      0.54       750\n",
      "weighted avg       0.87      0.90      0.86       750\n",
      "\n"
     ]
    }
   ],
   "source": [
    "model_evaluation(rf_model, X_test, y_test, threshold=0.7)"
   ]
  },
  {
   "cell_type": "code",
   "execution_count": 151,
   "metadata": {},
   "outputs": [
    {
     "data": {
      "image/png": "[encoded data removed]",
      "text/plain": [
       "<Figure size 432x288 with 1 Axes>"
      ]
     },
     "metadata": {
      "needs_background": "light"
     },
     "output_type": "display_data"
    }
   ],
   "source": [
    "rf_model = RandomForestClassifier(random_state=42)\n",
    "rf_model.fit(train_features, train_labels)\n",
    "\n",
    "vars_imp = (pd.Series(rf_model.feature_importances_, index = train_features.columns).sort_values(ascending = False))\n",
    "\n",
    "sns.barplot(x = vars_imp.index, y = vars_imp)\n",
    "plt.xticks(rotation = 90)\n",
    "plt.xlabel(\"Variables\")\n",
    "plt.ylabel(\"Score d'importance de la variable\")\n",
    "plt.title(\"Importance des variables prédictrices\")\n",
    "plt.show()"
   ]
  },
  {
   "cell_type": "markdown",
   "metadata": {},
   "source": [
    "# Modèle SVM"
   ]
  },
  {
   "cell_type": "code",
   "execution_count": 152,
   "metadata": {},
   "outputs": [
    {
     "name": "stdout",
     "output_type": "stream",
     "text": [
      "Accuracy sur l'ensemble d'entrainement ----> 0.733\n",
      "Les paramètres choisis pour le modèle  ----> SVC(C=100, break_ties=False, cache_size=200, class_weight=None, coef0=0.0,\n",
      "    decision_function_shape='ovr', degree=3, gamma='scale', kernel='rbf',\n",
      "    max_iter=-1, probability=False, random_state=42, shrinking=True, tol=0.001,\n",
      "    verbose=False)\n"
     ]
    }
   ],
   "source": [
    "# Paramètres\n",
    "svm_model = SVC(random_state = seed)\n",
    "param={'kernel':['linear','rbf'], 'C':[0.1, 1, 10, 50, 100]}\n",
    "\n",
    "# GridsearchCV\n",
    "grid_svm= GridSearchCV(svm_model,param_grid=param,cv=5,scoring=\"accuracy\")\n",
    "\n",
    "# Entrainement du modèle\n",
    "grid_svm.fit(train_features,train_labels)\n",
    "\n",
    "# Métrique du modèle d'entrainement et paramètres\n",
    "print(\"Accuracy sur l'ensemble d'entrainement ---->\", round(grid_svm.best_score_,3))\n",
    "print(\"Les paramètres choisis pour le modèle  ---->\", grid_svm.best_estimator_)"
   ]
  },
  {
   "cell_type": "code",
   "execution_count": 153,
   "metadata": {},
   "outputs": [
    {
     "data": {
      "text/plain": [
       "0.5506666666666666"
      ]
     },
     "execution_count": 153,
     "metadata": {},
     "output_type": "execute_result"
    }
   ],
   "source": [
    "# Evaluation\n",
    "\n",
    "y_pred = grid_svm.predict(X_test)\n",
    "grid_svm.score(X_test, y_test)"
   ]
  },
  {
   "cell_type": "markdown",
   "metadata": {},
   "source": [
    "# MLPClassifier"
   ]
  },
  {
   "cell_type": "code",
   "execution_count": 154,
   "metadata": {},
   "outputs": [
    {
     "data": {
      "text/plain": [
       "GridSearchCV(cv=5, error_score=nan,\n",
       "             estimator=MLPClassifier(activation='relu', alpha=0.0001,\n",
       "                                     batch_size='auto', beta_1=0.9,\n",
       "                                     beta_2=0.999, early_stopping=False,\n",
       "                                     epsilon=1e-08, hidden_layer_sizes=(100,),\n",
       "                                     learning_rate='constant',\n",
       "                                     learning_rate_init=0.001, max_fun=15000,\n",
       "                                     max_iter=1000, momentum=0.9,\n",
       "                                     n_iter_no_change=10,\n",
       "                                     nesterovs_momentum=True, power_t=0.5,\n",
       "                                     random_state=42, shuffle=True,\n",
       "                                     solver='adam', tol=0.0001,\n",
       "                                     validation_fraction=0.1, verbose=False,\n",
       "                                     warm_start=False),\n",
       "             iid='deprecated', n_jobs=-1,\n",
       "             param_grid={'hidden_layer_sizes': [(50,), (100,), (200,)],\n",
       "                         'learning_rate': ['constant', 'invscaling',\n",
       "                                           'adaptive']},\n",
       "             pre_dispatch='2*n_jobs', refit=True, return_train_score=False,\n",
       "             scoring='accuracy', verbose=0)"
      ]
     },
     "execution_count": 154,
     "metadata": {},
     "output_type": "execute_result"
    }
   ],
   "source": [
    "mlp = MLPClassifier(random_state=seed, max_iter=1000)\n",
    "parameters = {'hidden_layer_sizes': [(50,), (100,), (200,)], 'learning_rate': ['constant', 'invscaling', 'adaptive']}\n",
    "mlp_cv = GridSearchCV(mlp, parameters, scoring='accuracy', cv=5, n_jobs=-1)\n",
    "mlp_cv.fit(train_features, train_labels)"
   ]
  },
  {
   "cell_type": "code",
   "execution_count": 155,
   "metadata": {},
   "outputs": [
    {
     "name": "stdout",
     "output_type": "stream",
     "text": [
      "0.756\n",
      "MLPClassifier(activation='relu', alpha=0.0001, batch_size='auto', beta_1=0.9,\n",
      "              beta_2=0.999, early_stopping=False, epsilon=1e-08,\n",
      "              hidden_layer_sizes=(200,), learning_rate='constant',\n",
      "              learning_rate_init=0.001, max_fun=15000, max_iter=1000,\n",
      "              momentum=0.9, n_iter_no_change=10, nesterovs_momentum=True,\n",
      "              power_t=0.5, random_state=42, shuffle=True, solver='adam',\n",
      "              tol=0.0001, validation_fraction=0.1, verbose=False,\n",
      "              warm_start=False)\n"
     ]
    }
   ],
   "source": [
    "print(round(mlp_cv.best_score_,3))\n",
    "print(mlp_cv.best_estimator_)"
   ]
  },
  {
   "cell_type": "code",
   "execution_count": 156,
   "metadata": {},
   "outputs": [
    {
     "name": "stdout",
     "output_type": "stream",
     "text": [
      "\n",
      "-- Métriques d'évaluation --\n",
      "              precision    recall  f1-score   support\n",
      "\n",
      "           0       0.94      0.65      0.77       671\n",
      "           1       0.18      0.66      0.28        79\n",
      "\n",
      "    accuracy                           0.65       750\n",
      "   macro avg       0.56      0.65      0.52       750\n",
      "weighted avg       0.86      0.65      0.71       750\n",
      "\n"
     ]
    }
   ],
   "source": [
    "model_evaluation(mlp_cv.best_estimator_, X_val, y_val)"
   ]
  },
  {
   "cell_type": "markdown",
   "metadata": {},
   "source": [
    "## Choix du meilleur modèle "
   ]
  },
  {
   "cell_type": "markdown",
   "metadata": {},
   "source": [
    "### Les performances ont clairement montré que le meilleur modèle est le Random Forest. De plus, ce modèle est facilement interprétable, c'est celui qui nous servira pour la suite."
   ]
  },
  {
   "cell_type": "code",
   "execution_count": 157,
   "metadata": {},
   "outputs": [],
   "source": [
    "# Enregistrement du modèle dans un fichier pickle\n",
    "with open('C:/Users/HP/Desktop/ISE_2/Machine_Learning/PROJET/rf_model.pickle', 'wb') as f:\n",
    "    pickle.dump(rf_model, f)"
   ]
  },
  {
   "cell_type": "code",
   "execution_count": 158,
   "metadata": {},
   "outputs": [],
   "source": [
    "# Chargement du modèle à partir du fichier pickle\n",
    "with open('C:/Users/HP/Desktop/ISE_2/Machine_Learning/PROJET/rf_model.pickle', 'rb') as f:\n",
    "    loaded_model = pickle.load(f)"
   ]
  }
 ],
 "metadata": {
  "kernelspec": {
   "display_name": "Python 3",
   "language": "python",
   "name": "python3"
  },
  "language_info": {
   "codemirror_mode": {
    "name": "ipython",
    "version": 3
   },
   "file_extension": ".py",
   "mimetype": "text/x-python",
   "name": "python",
   "nbconvert_exporter": "python",
   "pygments_lexer": "ipython3",
   "version": "3.7.6"
  }
 },
 "nbformat": 4,
 "nbformat_minor": 4
}
